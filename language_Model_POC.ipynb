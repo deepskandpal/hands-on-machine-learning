{
  "nbformat": 4,
  "nbformat_minor": 0,
  "metadata": {
    "colab": {
      "name": "language Model POC",
      "provenance": [],
      "authorship_tag": "ABX9TyMsEvjHnVJVvYTIs5rQ32TL",
      "include_colab_link": true
    },
    "kernelspec": {
      "name": "python3",
      "display_name": "Python 3"
    }
  },
  "cells": [
    {
      "cell_type": "markdown",
      "metadata": {
        "id": "view-in-github",
        "colab_type": "text"
      },
      "source": [
        "<a href=\"https://colab.research.google.com/github/deepskandpal/hands-on-machine-learning/blob/POC/language_Model_POC.ipynb\" target=\"_parent\"><img src=\"https://colab.research.google.com/assets/colab-badge.svg\" alt=\"Open In Colab\"/></a>"
      ]
    },
    {
      "cell_type": "markdown",
      "metadata": {
        "id": "Zni81877oeG-",
        "colab_type": "text"
      },
      "source": [
        "### Building an N-gram Language Model"
      ]
    },
    {
      "cell_type": "code",
      "metadata": {
        "id": "apuZHh-JoWlm",
        "colab_type": "code",
        "colab": {
          "base_uri": "https://localhost:8080/",
          "height": 85
        },
        "outputId": "4029be5b-633d-4b6a-917d-d5d63a769836"
      },
      "source": [
        "import nltk\n",
        "nltk.download('reuters')\n",
        "nltk.download('punkt')\n",
        "from nltk.corpus import reuters\n",
        "from nltk import bigrams, trigrams\n",
        "from collections import Counter, defaultdict\n",
        "\n",
        "# Create a placeholder for model\n",
        "model = defaultdict(lambda: defaultdict(lambda: 0))\n",
        "\n",
        "# Count frequency of co-occurance  \n",
        "for sentence in reuters.sents():\n",
        "    for w1, w2, w3 in trigrams(sentence, pad_right=True, pad_left=True):\n",
        "        model[(w1, w2)][w3] += 1\n",
        " \n",
        "# Let's transform the counts to probabilities\n",
        "for w1_w2 in model:\n",
        "    total_count = float(sum(model[w1_w2].values()))\n",
        "    for w3 in model[w1_w2]:\n",
        "        model[w1_w2][w3] /= total_count"
      ],
      "execution_count": 5,
      "outputs": [
        {
          "output_type": "stream",
          "text": [
            "[nltk_data] Downloading package reuters to /root/nltk_data...\n",
            "[nltk_data]   Package reuters is already up-to-date!\n",
            "[nltk_data] Downloading package punkt to /root/nltk_data...\n",
            "[nltk_data]   Unzipping tokenizers/punkt.zip.\n"
          ],
          "name": "stdout"
        }
      ]
    },
    {
      "cell_type": "code",
      "metadata": {
        "id": "ouT88cmSpe2W",
        "colab_type": "code",
        "colab": {
          "base_uri": "https://localhost:8080/",
          "height": 272
        },
        "outputId": "48c7386a-3113-455b-95e9-e5fc3c65c1a5"
      },
      "source": [
        "dict(model[\"today\", \"the\"])"
      ],
      "execution_count": 6,
      "outputs": [
        {
          "output_type": "execute_result",
          "data": {
            "text/plain": [
              "{'Bank': 0.05555555555555555,\n",
              " 'European': 0.05555555555555555,\n",
              " 'Higher': 0.05555555555555555,\n",
              " 'Italian': 0.05555555555555555,\n",
              " 'Turkish': 0.05555555555555555,\n",
              " 'company': 0.16666666666666666,\n",
              " 'emirate': 0.05555555555555555,\n",
              " 'increase': 0.05555555555555555,\n",
              " 'newspaper': 0.05555555555555555,\n",
              " 'options': 0.05555555555555555,\n",
              " 'overseas': 0.05555555555555555,\n",
              " 'pound': 0.05555555555555555,\n",
              " 'price': 0.1111111111111111,\n",
              " 'public': 0.05555555555555555,\n",
              " 'time': 0.05555555555555555}"
            ]
          },
          "metadata": {
            "tags": []
          },
          "execution_count": 6
        }
      ]
    }
  ]
}