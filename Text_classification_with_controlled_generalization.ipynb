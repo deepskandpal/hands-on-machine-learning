{
  "nbformat": 4,
  "nbformat_minor": 0,
  "metadata": {
    "colab": {
      "name": "Text classification with controlled generalization",
      "provenance": [],
      "authorship_tag": "ABX9TyMZr3ERbm/oYy2VN3IaUJhN",
      "include_colab_link": true
    },
    "kernelspec": {
      "name": "python3",
      "display_name": "Python 3"
    }
  },
  "cells": [
    {
      "cell_type": "markdown",
      "metadata": {
        "id": "view-in-github",
        "colab_type": "text"
      },
      "source": [
        "<a href=\"https://colab.research.google.com/github/deepskandpal/hands-on-machine-learning/blob/POC/Text_classification_with_controlled_generalization.ipynb\" target=\"_parent\"><img src=\"https://colab.research.google.com/assets/colab-badge.svg\" alt=\"Open In Colab\"/></a>"
      ]
    },
    {
      "cell_type": "markdown",
      "metadata": {
        "id": "2_IWAsR6n5Nm",
        "colab_type": "text"
      },
      "source": [
        "### link to paper: https://research.google/pubs/pub48246/"
      ]
    },
    {
      "cell_type": "code",
      "metadata": {
        "id": "69NjkFQ7nyMu",
        "colab_type": "code",
        "colab": {
          "base_uri": "https://localhost:8080/",
          "height": 323
        },
        "outputId": "983681f4-e315-4d98-bfcb-7af47d19e80c"
      },
      "source": [
        "!curl -s https://packagecloud.io/install/repositories/github/git-lfs/script.deb.sh | sudo bash\n",
        "!sudo apt-get install git-lfs\n",
        "!git lfs install"
      ],
      "execution_count": 5,
      "outputs": [
        {
          "output_type": "stream",
          "text": [
            "Detected operating system as Ubuntu/bionic.\n",
            "Checking for curl...\n",
            "Detected curl...\n",
            "Checking for gpg...\n",
            "Detected gpg...\n",
            "Running apt-get update... done.\n",
            "Installing apt-transport-https... done.\n",
            "Installing /etc/apt/sources.list.d/github_git-lfs.list...done.\n",
            "Importing packagecloud gpg key... done.\n",
            "Running apt-get update... done.\n",
            "\n",
            "The repository is setup! You can now install packages.\n",
            "Reading package lists... Done\n",
            "Building dependency tree       \n",
            "Reading state information... Done\n",
            "git-lfs is already the newest version (2.12.0).\n",
            "0 upgraded, 0 newly installed, 0 to remove and 53 not upgraded.\n",
            "Git LFS initialized.\n"
          ],
          "name": "stdout"
        }
      ]
    },
    {
      "cell_type": "code",
      "metadata": {
        "id": "9_LNAHZSjAfQ",
        "colab_type": "code",
        "colab": {
          "base_uri": "https://localhost:8080/",
          "height": 207
        },
        "outputId": "a33b1157-45a0-487b-d3e7-86fceb50e3db"
      },
      "source": [
        "!git clone https://github.com/google/categorybuilder\n",
        "%cd categorybuilder"
      ],
      "execution_count": 10,
      "outputs": [
        {
          "output_type": "stream",
          "text": [
            "Cloning into 'categorybuilder'...\n",
            "remote: Enumerating objects: 34, done.\u001b[K\n",
            "remote: Counting objects: 100% (34/34), done.\u001b[K\n",
            "remote: Compressing objects: 100% (22/22), done.\u001b[K\n",
            "remote: Total 100 (delta 14), reused 24 (delta 9), pack-reused 66\u001b[K\n",
            "Receiving objects: 100% (100/100), 339.94 KiB | 629.00 KiB/s, done.\n",
            "Resolving deltas: 100% (41/41), done.\n",
            "tcmalloc: large alloc 1471086592 bytes == 0x55b563e0c000 @  0x7f772e7a72a4 0x55b5274ffa0f 0x55b5274dcc8b 0x55b527491e33 0x55b52743613a 0x55b5274365f6 0x55b527453361 0x55b5274538f9 0x55b527453e23 0x55b5274f8702 0x55b52739a112 0x55b527380a15 0x55b5273816d5 0x55b5273806da 0x7f772daedb97 0x55b52738072a\n",
            "Filtering content: 100% (2/2), 1.52 GiB | 21.55 MiB/s, done.\n",
            "Not in a git repository.\n"
          ],
          "name": "stdout"
        }
      ]
    },
    {
      "cell_type": "code",
      "metadata": {
        "id": "JQR0Nuk1mXWg",
        "colab_type": "code",
        "colab": {}
      },
      "source": [
        "!git lfs pull"
      ],
      "execution_count": 23,
      "outputs": []
    },
    {
      "cell_type": "code",
      "metadata": {
        "id": "vOT_n5HQmiGb",
        "colab_type": "code",
        "colab": {
          "base_uri": "https://localhost:8080/",
          "height": 105
        },
        "outputId": "ea3a69be-53e2-4813-ece7-cab5e8214518"
      },
      "source": [
        "!pip install alive-progress"
      ],
      "execution_count": 25,
      "outputs": [
        {
          "output_type": "stream",
          "text": [
            "Collecting alive-progress\n",
            "  Downloading https://files.pythonhosted.org/packages/7a/46/25535783b6d88f7b85a71a4393f658baee5c5df5064c410e14058296a042/alive_progress-1.6.1-py3-none-any.whl\n",
            "Installing collected packages: alive-progress\n",
            "Successfully installed alive-progress-1.6.1\n"
          ],
          "name": "stdout"
        }
      ]
    },
    {
      "cell_type": "code",
      "metadata": {
        "id": "NByb5Pa2lbAh",
        "colab_type": "code",
        "colab": {
          "base_uri": "https://localhost:8080/",
          "height": 187
        },
        "outputId": "b6af8155-a6e0-4d65-df75-f5da61d86846"
      },
      "source": [
        "!python initialize.py"
      ],
      "execution_count": 26,
      "outputs": [
        {
          "output_type": "stream",
          "text": [
            "INITIALIZING. ONLY DONE ONCE, WILL TAKE A FEW MINUTES.\n",
            "Creating table 1 of 3: item-to-feature matrix.\n",
            "\u001b[?25h\u001b[2K\n",
            "Creating table 2 of 3: feature-to-item matrix.\n",
            "\u001b[?25h\u001b[2K\n",
            "Creating indices.\n",
            "Creating table 3 of 3: item-to-feature matrix (contextual).\n",
            "\u001b[?25h\u001b[2K\n",
            "\u001b[?25h\u001b[2K\n",
            "Creating indices.\n"
          ],
          "name": "stdout"
        }
      ]
    },
    {
      "cell_type": "code",
      "metadata": {
        "id": "bc6u3B-3rTiH",
        "colab_type": "code",
        "colab": {
          "base_uri": "https://localhost:8080/",
          "height": 1000
        },
        "outputId": "edc244aa-a3fb-4f45-f800-61d148bce34a"
      },
      "source": [
        "!python category_builder.py --rho=3 --n=10 recharge"
      ],
      "execution_count": 44,
      "outputs": [
        {
          "output_type": "stream",
          "text": [
            "[0]\t1806.104\trecharge\n",
            "[1]\t965.292\trecharging\n",
            "[2]\t825.224\trecharges\n",
            "[3]\t819.781\trecharged\n",
            "[4]\t642.511\tcharge\n",
            "[5]\t635.292\tcharging\n",
            "[6]\t625.456\tcharged\n",
            "[7]\t555.593\tcharge up\n",
            "[8]\t510.045\tdraining\n",
            "[9]\t503.137\treplace\n",
            "[10]\t496.764\tdrained\n",
            "[11]\t488.818\tdrain\n",
            "[12]\t477.390\tdischarge\n",
            "[13]\t419.110\tcharged up\n",
            "[14]\t393.265\treplacing\n",
            "[15]\t391.713\tcharged by\n",
            "[16]\t374.943\tdischarged\n",
            "[17]\t370.396\tdepleted\n",
            "[18]\t356.467\trecycle\n",
            "[19]\t355.941\tdrains\n",
            "[20]\t344.886\tcharges\n",
            "[21]\t343.892\tdischarging\n",
            "[22]\t331.601\tdisconnect\n",
            "[23]\t319.348\trun down\n",
            "[24]\t318.512\tdisconnecting\n",
            "[25]\t312.361\treplaced\n",
            "[26]\t303.842\treplenish\n",
            "[27]\t289.314\tdeplete\n",
            "[28]\t276.789\tovercharging\n",
            "[29]\t275.043\trefill\n",
            "[30]\t264.046\treload\n",
            "[31]\t257.765\tconserve\n",
            "[32]\t251.275\tdisconnected\n",
            "[33]\t250.942\tovercharged\n",
            "[34]\t245.006\tinsert\n",
            "[35]\t232.531\taquifers\n",
            "[36]\t230.738\tswap out\n",
            "[37]\t228.458\tchange out\n",
            "[38]\t226.665\tcontamination\n",
            "[39]\t220.924\taquifer\n",
            "[40]\t218.578\tremediation\n",
            "[41]\t215.450\tovercharge\n",
            "[42]\t207.100\tdepleting\n",
            "[43]\t204.590\ttop up\n",
            "[44]\t204.296\tchanging\n",
            "[45]\t203.685\treinsert\n",
            "[46]\t203.296\tdischarges\n",
            "[47]\t201.131\treconnect\n",
            "[48]\t199.576\tdepletion\n",
            "[49]\t198.117\tcharged in\n",
            "[50]\t194.980\thydrology\n",
            "[51]\t193.934\tremove\n",
            "[52]\t190.852\treconditioning\n",
            "[53]\t190.296\tinstalling\n",
            "[54]\t188.697\twells\n",
            "[55]\t188.696\tvulnerability\n",
            "[56]\t187.777\tdrawdown\n",
            "[57]\t187.197\ttop off\n",
            "[58]\t185.805\tchange\n",
            "[59]\t185.452\tstoring\n",
            "[60]\t184.174\texhausted\n",
            "[61]\t180.369\toverdraft\n",
            "[62]\t179.992\tpollution\n",
            "[63]\t175.897\treinstall\n",
            "[64]\t175.837\tpumping\n",
            "[65]\t174.834\tstorage\n",
            "[66]\t172.666\tremoving\n",
            "[67]\t172.109\treplenishment\n",
            "[68]\t171.813\tequalize\n",
            "[69]\t171.469\trunning down\n",
            "[70]\t170.828\tseepage\n",
            "[71]\t167.734\tenergize\n",
            "[72]\t165.629\tflow\n",
            "[73]\t164.677\tgeochemistry\n",
            "[74]\t163.417\tworn out\n",
            "[75]\t163.104\trefresh\n",
            "[76]\t161.591\trejuvenate\n",
            "[77]\t159.360\ttake out\n",
            "[78]\t159.355\tsalinity\n",
            "[79]\t158.051\tunplug\n",
            "[80]\t157.633\twithdrawals\n",
            "[81]\t155.990\treconnected\n",
            "[82]\t155.627\tdrop off\n",
            "[83]\t155.399\tinserting\n",
            "[84]\t152.597\tdrain out\n",
            "[85]\t152.110\ttested\n",
            "[86]\t151.476\tinstall\n",
            "[87]\t149.788\treplaced with\n",
            "[88]\t147.793\tmonitoring\n",
            "[89]\t147.629\tprotection\n",
            "[90]\t147.344\tgroundwater\n",
            "[91]\t145.860\tuse up\n",
            "[92]\t145.562\tunhook\n",
            "[93]\t145.019\tbasin\n",
            "[94]\t144.940\thydraulics\n",
            "[95]\t144.155\tchanging out\n",
            "[96]\t143.960\tkeep\n",
            "[97]\t143.762\tsystems\n",
            "[98]\t143.574\tconnecting\n",
            "[99]\t142.875\tbasins\n"
          ],
          "name": "stdout"
        }
      ]
    },
    {
      "cell_type": "code",
      "metadata": {
        "id": "ieP0tdAorc06",
        "colab_type": "code",
        "colab": {
          "base_uri": "https://localhost:8080/",
          "height": 1000
        },
        "outputId": "5e934d88-08ac-4fea-bc8a-ac56e7a0db39"
      },
      "source": [
        "!python category_builder.py chicago \"new york\""
      ],
      "execution_count": 30,
      "outputs": [
        {
          "output_type": "stream",
          "text": [
            "[0]\t4310.956\tchicago\n",
            "[1]\t3784.598\tlondon\n",
            "[2]\t3437.516\tboston\n",
            "[3]\t3361.957\tnew york city\n",
            "[4]\t3350.193\tphiladelphia\n",
            "[5]\t3325.971\ttoronto\n",
            "[6]\t3221.131\tlos angeles\n",
            "[7]\t3216.244\tangeles\n",
            "[8]\t3214.807\tatlanta\n",
            "[9]\t3208.063\tnew york\n",
            "[10]\t3145.086\tyork\n",
            "[11]\t3104.060\tsan francisco\n",
            "[12]\t3067.935\tfrancisco\n",
            "[13]\t3050.010\tseattle\n",
            "[14]\t2964.458\thouston\n",
            "[15]\t2924.620\tdenver\n",
            "[16]\t2909.817\tsydney\n",
            "[17]\t2905.978\tparis\n",
            "[18]\t2903.445\twashington\n",
            "[19]\t2893.566\tportland\n",
            "[20]\t2884.255\tmiami\n",
            "[21]\t2871.863\tdetroit\n",
            "[22]\t2837.850\tvancouver\n",
            "[23]\t2817.053\tmelbourne\n",
            "[24]\t2773.384\tdallas\n",
            "[25]\t2725.929\tcity\n",
            "[26]\t2660.182\tbaltimore\n",
            "[27]\t2639.456\ttokyo\n",
            "[28]\t2579.057\tmontreal\n",
            "[29]\t2576.854\tnyc\n",
            "[30]\t2546.909\tminneapolis\n",
            "[31]\t2544.355\tbirmingham\n",
            "[32]\t2532.586\tpittsburgh\n",
            "[33]\t2511.434\tmumbai\n",
            "[34]\t2502.136\tmanhattan\n",
            "[35]\t2461.820\tberlin\n",
            "[36]\t2428.229\tdublin\n",
            "[37]\t2379.112\tcincinnati\n",
            "[38]\t2369.947\tmilwaukee\n",
            "[39]\t2362.503\tnashville\n",
            "[40]\t2351.174\tsingapore\n",
            "[41]\t2346.385\tcleveland\n",
            "[42]\t2342.545\tmanchester\n",
            "[43]\t2303.111\tamsterdam\n",
            "[44]\t2275.063\tvienna\n",
            "[45]\t2262.125\tnew orleans\n",
            "[46]\t2260.203\tlouisville\n",
            "[47]\t2231.153\tcalifornia\n",
            "[48]\t2209.750\tbrooklyn\n",
            "[49]\t2194.256\torleans\n",
            "[50]\t2177.578\tseoul\n",
            "[51]\t2175.523\tmoscow\n",
            "[52]\t2161.187\trome\n",
            "[53]\t2147.537\taustin\n",
            "[54]\t2133.600\tphoenix\n",
            "[55]\t2130.796\ttampa\n",
            "[56]\t2123.242\torlando\n",
            "[57]\t2121.340\tdelhi\n",
            "[58]\t2108.748\tottawa\n",
            "[59]\t2102.293\tistanbul\n",
            "[60]\t2101.865\tshanghai\n",
            "[61]\t2098.201\tstockholm\n",
            "[62]\t2087.858\tcalgary\n",
            "[63]\t2075.634\tmemphis\n",
            "[64]\t2075.573\tbeijing\n",
            "[65]\t2073.382\tsan diego\n",
            "[66]\t2072.445\tdubai\n",
            "[67]\t2070.591\trichmond\n",
            "[68]\t2068.534\tsacramento\n",
            "[69]\t2066.432\tmanila\n",
            "[70]\t2065.822\toakland\n",
            "[71]\t2057.113\tjohannesburg\n",
            "[72]\t2046.984\tathens\n",
            "[73]\t2044.271\twarsaw\n",
            "[74]\t2043.152\tbarcelona\n",
            "[75]\t2040.714\tmilan\n",
            "[76]\t2035.622\tomaha\n",
            "[77]\t2030.006\tbangkok\n",
            "[78]\t2026.607\tglasgow\n",
            "[79]\t2022.513\tindianapolis\n",
            "[80]\t1978.664\tmunich\n",
            "[81]\t1969.440\tcolumbus\n",
            "[82]\t1965.191\tprague\n",
            "[83]\t1962.627\tdiego\n",
            "[84]\t1960.351\tflorida\n",
            "[85]\t1945.828\tkansas city\n",
            "[86]\t1945.078\tlas vegas\n",
            "[87]\t1939.481\tst. louis\n",
            "[88]\t1919.934\tcopenhagen\n",
            "[89]\t1915.102\tsan antonio\n",
            "[90]\t1912.710\tlouis\n",
            "[91]\t1903.535\tedmonton\n",
            "[92]\t1889.663\twinnipeg\n",
            "[93]\t1883.463\tnewark\n",
            "[94]\t1875.389\trochester\n",
            "[95]\t1860.607\tvegas\n",
            "[96]\t1855.955\thong kong\n",
            "[97]\t1854.840\tcharlotte\n",
            "[98]\t1854.476\tnairobi\n",
            "[99]\t1854.241\thonolulu\n"
          ],
          "name": "stdout"
        }
      ]
    },
    {
      "cell_type": "code",
      "metadata": {
        "id": "ZUPYLDBCsEIZ",
        "colab_type": "code",
        "colab": {
          "base_uri": "https://localhost:8080/",
          "height": 204
        },
        "outputId": "81038a3f-8ec7-448a-f138-be41a2a6584a"
      },
      "source": [
        "!python analogy.py \"jio\" \"united kingdom\""
      ],
      "execution_count": 39,
      "outputs": [
        {
          "output_type": "stream",
          "text": [
            "Looking for the 'jio' of the 'united kingdom'\n",
            "165.936\t\tvodafone\n",
            "145.926\t\tlandline\n",
            "139.155\t\tbritish airways\n",
            "137.528\t\tprime minister\n",
            "136.993\t\temirates\n",
            "135.133\t\tcountries\n",
            "134.559\t\ttesco\n",
            "134.436\t\tunilever\n",
            "132.626\t\teuropean union\n",
            "131.700\t\tlife sciences\n"
          ],
          "name": "stdout"
        }
      ]
    }
  ]
}