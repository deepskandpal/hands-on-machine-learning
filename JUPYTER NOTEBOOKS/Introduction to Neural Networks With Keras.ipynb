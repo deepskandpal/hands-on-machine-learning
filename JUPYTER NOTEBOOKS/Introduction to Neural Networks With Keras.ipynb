{
 "cells": [
  {
   "cell_type": "markdown",
   "metadata": {},
   "source": [
    "# Introduction to neural Networks with Tensorflow and Keras"
   ]
  },
  {
   "cell_type": "markdown",
   "metadata": {},
   "source": [
    "# Classification with Keras"
   ]
  },
  {
   "cell_type": "code",
   "execution_count": 86,
   "metadata": {},
   "outputs": [],
   "source": [
    "import os, ssl\n",
    "if (not os.environ.get('PYTHONHTTPSVERIFY', '') and\n",
    "    getattr(ssl, '_create_unverified_context', None)): \n",
    "    ssl._create_default_https_context = ssl._create_unverified_context\n",
    "\n",
    "DIR_PATH = os.path.dirname(os.path.realpath('__file__'))\n",
    " \n",
    "import tensorflow as tf\n",
    "\n",
    "from tensorflow import keras\n",
    "\n",
    "fashion_mnist = keras.datasets.fashion_mnist\n",
    "\n",
    "(X_train_full, y_train_full),(X_test,y_test) = fashion_mnist.load_data()\n"
   ]
  },
  {
   "cell_type": "markdown",
   "metadata": {},
   "source": [
    "# Preparing the data set"
   ]
  },
  {
   "cell_type": "code",
   "execution_count": null,
   "metadata": {},
   "outputs": [],
   "source": [
    "X_train_full.shape"
   ]
  },
  {
   "cell_type": "code",
   "execution_count": 8,
   "metadata": {},
   "outputs": [
    {
     "data": {
      "text/plain": [
       "dtype('uint8')"
      ]
     },
     "execution_count": 8,
     "metadata": {},
     "output_type": "execute_result"
    }
   ],
   "source": [
    "X_train_full.dtype"
   ]
  },
  {
   "cell_type": "code",
   "execution_count": 4,
   "metadata": {},
   "outputs": [],
   "source": [
    "X_valid,X_train = X_train_full[:5000]/255.0,X_train_full[5000:]/255.0"
   ]
  },
  {
   "cell_type": "code",
   "execution_count": 5,
   "metadata": {},
   "outputs": [],
   "source": [
    "y_valid , y_train = y_train_full[:5000] , y_train_full[5000:]"
   ]
  },
  {
   "cell_type": "code",
   "execution_count": 6,
   "metadata": {},
   "outputs": [],
   "source": [
    "class_names = [\"T-shirt/top\",\"Trouser\",\"Pullover\",\"Dress\",\"Coat\",\"Sandal\",\"Shirt\",\"Sneaker\",\"Bag\",\"Ankle boot\"]"
   ]
  },
  {
   "cell_type": "code",
   "execution_count": 7,
   "metadata": {},
   "outputs": [
    {
     "data": {
      "text/plain": [
       "'Coat'"
      ]
     },
     "execution_count": 7,
     "metadata": {},
     "output_type": "execute_result"
    }
   ],
   "source": [
    "class_names[y_train[0]]"
   ]
  },
  {
   "cell_type": "markdown",
   "metadata": {},
   "source": [
    "# Creating Model using Sequential API Keras"
   ]
  },
  {
   "cell_type": "code",
   "execution_count": 9,
   "metadata": {},
   "outputs": [],
   "source": [
    "model = keras.models.Sequential()\n",
    "model.add(keras.layers.Flatten(input_shape=[28,28]))\n",
    "model.add(keras.layers.Dense(300,activation=\"relu\"))\n",
    "model.add(keras.layers.Dense(100,activation=\"relu\"))\n",
    "model.add(keras.layers.Dense(10,activation=\"softmax\"))"
   ]
  },
  {
   "cell_type": "code",
   "execution_count": 11,
   "metadata": {},
   "outputs": [
    {
     "name": "stdout",
     "output_type": "stream",
     "text": [
      "Model: \"sequential\"\n",
      "_________________________________________________________________\n",
      "Layer (type)                 Output Shape              Param #   \n",
      "=================================================================\n",
      "flatten (Flatten)            (None, 784)               0         \n",
      "_________________________________________________________________\n",
      "dense (Dense)                (None, 300)               235500    \n",
      "_________________________________________________________________\n",
      "dense_1 (Dense)              (None, 100)               30100     \n",
      "_________________________________________________________________\n",
      "dense_2 (Dense)              (None, 10)                1010      \n",
      "=================================================================\n",
      "Total params: 266,610\n",
      "Trainable params: 266,610\n",
      "Non-trainable params: 0\n",
      "_________________________________________________________________\n"
     ]
    }
   ],
   "source": [
    "model.summary()"
   ]
  },
  {
   "cell_type": "code",
   "execution_count": 16,
   "metadata": {},
   "outputs": [
    {
     "data": {
      "text/plain": [
       "(784, 300)"
      ]
     },
     "execution_count": 16,
     "metadata": {},
     "output_type": "execute_result"
    }
   ],
   "source": [
    "model.layers\n",
    "hidden1 = model.layers[1]\n",
    "hidden1.name\n",
    "\n",
    "weights , biases = hidden1.get_weights()\n",
    "weights.shape"
   ]
  },
  {
   "cell_type": "code",
   "execution_count": 18,
   "metadata": {},
   "outputs": [],
   "source": [
    "model.compile(loss = \"sparse_categorical_crossentropy\",optimizer=\"sgd\",metrics=[\"accuracy\"])"
   ]
  },
  {
   "cell_type": "code",
   "execution_count": 19,
   "metadata": {},
   "outputs": [
    {
     "name": "stdout",
     "output_type": "stream",
     "text": [
      "Train on 55000 samples, validate on 5000 samples\n",
      "Epoch 1/30\n",
      "WARNING:tensorflow:Entity <function Function._initialize_uninitialized_variables.<locals>.initialize_variables at 0x154bb1f28> could not be transformed and will be executed as-is. Please report this to the AutoGraph team. When filing the bug, set the verbosity to 10 (on Linux, `export AUTOGRAPH_VERBOSITY=10`) and attach the full output. Cause: module 'gast' has no attribute 'Num'\n",
      "WARNING: Entity <function Function._initialize_uninitialized_variables.<locals>.initialize_variables at 0x154bb1f28> could not be transformed and will be executed as-is. Please report this to the AutoGraph team. When filing the bug, set the verbosity to 10 (on Linux, `export AUTOGRAPH_VERBOSITY=10`) and attach the full output. Cause: module 'gast' has no attribute 'Num'\n",
      "55000/55000 [==============================] - 5s 96us/sample - loss: 0.7246 - accuracy: 0.7611 - val_loss: 0.5050 - val_accuracy: 0.8300\n",
      "Epoch 2/30\n",
      "55000/55000 [==============================] - 5s 88us/sample - loss: 0.4880 - accuracy: 0.8309 - val_loss: 0.4771 - val_accuracy: 0.8376\n",
      "Epoch 3/30\n",
      "55000/55000 [==============================] - 5s 89us/sample - loss: 0.4428 - accuracy: 0.8454 - val_loss: 0.4280 - val_accuracy: 0.8544\n",
      "Epoch 4/30\n",
      "55000/55000 [==============================] - 5s 89us/sample - loss: 0.4150 - accuracy: 0.8534 - val_loss: 0.4250 - val_accuracy: 0.8458\n",
      "Epoch 5/30\n",
      "55000/55000 [==============================] - 5s 91us/sample - loss: 0.3945 - accuracy: 0.8615 - val_loss: 0.3852 - val_accuracy: 0.8686\n",
      "Epoch 6/30\n",
      "55000/55000 [==============================] - 5s 92us/sample - loss: 0.3794 - accuracy: 0.8665 - val_loss: 0.3932 - val_accuracy: 0.8628\n",
      "Epoch 7/30\n",
      "55000/55000 [==============================] - 5s 91us/sample - loss: 0.3660 - accuracy: 0.8705 - val_loss: 0.3884 - val_accuracy: 0.8688\n",
      "Epoch 8/30\n",
      "55000/55000 [==============================] - 5s 89us/sample - loss: 0.3535 - accuracy: 0.8751 - val_loss: 0.3540 - val_accuracy: 0.8752\n",
      "Epoch 9/30\n",
      "55000/55000 [==============================] - 5s 93us/sample - loss: 0.3448 - accuracy: 0.8768 - val_loss: 0.3518 - val_accuracy: 0.8818\n",
      "Epoch 10/30\n",
      "55000/55000 [==============================] - 5s 91us/sample - loss: 0.3347 - accuracy: 0.8811 - val_loss: 0.3445 - val_accuracy: 0.8796\n",
      "Epoch 11/30\n",
      "55000/55000 [==============================] - 5s 92us/sample - loss: 0.3252 - accuracy: 0.8850 - val_loss: 0.3341 - val_accuracy: 0.8836\n",
      "Epoch 12/30\n",
      "55000/55000 [==============================] - 5s 89us/sample - loss: 0.3173 - accuracy: 0.8874 - val_loss: 0.3334 - val_accuracy: 0.8838\n",
      "Epoch 13/30\n",
      "55000/55000 [==============================] - 5s 88us/sample - loss: 0.3101 - accuracy: 0.8890 - val_loss: 0.3230 - val_accuracy: 0.8842\n",
      "Epoch 14/30\n",
      "55000/55000 [==============================] - 5s 91us/sample - loss: 0.3028 - accuracy: 0.8916 - val_loss: 0.3391 - val_accuracy: 0.8810\n",
      "Epoch 15/30\n",
      "55000/55000 [==============================] - 5s 91us/sample - loss: 0.2965 - accuracy: 0.8933 - val_loss: 0.3536 - val_accuracy: 0.8698\n",
      "Epoch 16/30\n",
      "55000/55000 [==============================] - 5s 90us/sample - loss: 0.2903 - accuracy: 0.8965 - val_loss: 0.3179 - val_accuracy: 0.8874\n",
      "Epoch 17/30\n",
      "55000/55000 [==============================] - 5s 90us/sample - loss: 0.2841 - accuracy: 0.8966 - val_loss: 0.3164 - val_accuracy: 0.8906\n",
      "Epoch 18/30\n",
      "55000/55000 [==============================] - 5s 90us/sample - loss: 0.2782 - accuracy: 0.8989 - val_loss: 0.3171 - val_accuracy: 0.8864\n",
      "Epoch 19/30\n",
      "55000/55000 [==============================] - 5s 90us/sample - loss: 0.2733 - accuracy: 0.9022 - val_loss: 0.3201 - val_accuracy: 0.8864\n",
      "Epoch 20/30\n",
      "55000/55000 [==============================] - 5s 91us/sample - loss: 0.2688 - accuracy: 0.9037 - val_loss: 0.3112 - val_accuracy: 0.8924\n",
      "Epoch 21/30\n",
      "55000/55000 [==============================] - 5s 91us/sample - loss: 0.2638 - accuracy: 0.9048 - val_loss: 0.3019 - val_accuracy: 0.8968\n",
      "Epoch 22/30\n",
      "55000/55000 [==============================] - 5s 91us/sample - loss: 0.2581 - accuracy: 0.9071 - val_loss: 0.2986 - val_accuracy: 0.8968\n",
      "Epoch 23/30\n",
      "55000/55000 [==============================] - 5s 91us/sample - loss: 0.2538 - accuracy: 0.9095 - val_loss: 0.3045 - val_accuracy: 0.8960\n",
      "Epoch 24/30\n",
      "55000/55000 [==============================] - 5s 91us/sample - loss: 0.2500 - accuracy: 0.9104 - val_loss: 0.3029 - val_accuracy: 0.8916\n",
      "Epoch 25/30\n",
      "55000/55000 [==============================] - 5s 91us/sample - loss: 0.2451 - accuracy: 0.9125 - val_loss: 0.2904 - val_accuracy: 0.8976\n",
      "Epoch 26/30\n",
      "55000/55000 [==============================] - 5s 89us/sample - loss: 0.2421 - accuracy: 0.9130 - val_loss: 0.3008 - val_accuracy: 0.8900\n",
      "Epoch 27/30\n",
      "55000/55000 [==============================] - 5s 90us/sample - loss: 0.2371 - accuracy: 0.9142 - val_loss: 0.3026 - val_accuracy: 0.8960\n",
      "Epoch 28/30\n",
      "55000/55000 [==============================] - 5s 91us/sample - loss: 0.2338 - accuracy: 0.9160 - val_loss: 0.3319 - val_accuracy: 0.8776\n",
      "Epoch 29/30\n",
      "55000/55000 [==============================] - 5s 93us/sample - loss: 0.2292 - accuracy: 0.9176 - val_loss: 0.2928 - val_accuracy: 0.8950\n",
      "Epoch 30/30\n",
      "55000/55000 [==============================] - 5s 92us/sample - loss: 0.2256 - accuracy: 0.9194 - val_loss: 0.2929 - val_accuracy: 0.8970\n"
     ]
    }
   ],
   "source": [
    "history = model.fit(X_train,y_train,epochs=30,validation_data=(X_valid,y_valid))"
   ]
  },
  {
   "cell_type": "code",
   "execution_count": 27,
   "metadata": {},
   "outputs": [
    {
     "data": {
      "image/png": "[encoded data removed]",
      "text/plain": [
       "<Figure size 576x360 with 1 Axes>"
      ]
     },
     "metadata": {
      "needs_background": "light"
     },
     "output_type": "display_data"
    }
   ],
   "source": [
    "import pandas as pd\n",
    "\n",
    "import numpy as np\n",
    "\n",
    "import matplotlib.pyplot as plt\n",
    "\n",
    "pd.DataFrame(history.history).plot(figsize=(8,5))\n",
    "plt.grid(True)\n",
    "plt.gca().set_ylim(0,1)\n",
    "plt.show()"
   ]
  },
  {
   "cell_type": "code",
   "execution_count": 28,
   "metadata": {},
   "outputs": [
    {
     "data": {
      "text/plain": [
       "array([[0., 0., 0., 0., 0., 0., 0., 0., 0., 1.],\n",
       "       [0., 0., 1., 0., 0., 0., 0., 0., 0., 0.],\n",
       "       [0., 1., 0., 0., 0., 0., 0., 0., 0., 0.]], dtype=float32)"
      ]
     },
     "execution_count": 28,
     "metadata": {},
     "output_type": "execute_result"
    }
   ],
   "source": [
    "X_new = X_test[:3]\n",
    "y_proba = model.predict(X_new)\n",
    "y_proba.round(2)\n"
   ]
  },
  {
   "cell_type": "code",
   "execution_count": 29,
   "metadata": {},
   "outputs": [
    {
     "data": {
      "text/plain": [
       "array([9, 2, 1])"
      ]
     },
     "execution_count": 29,
     "metadata": {},
     "output_type": "execute_result"
    }
   ],
   "source": [
    "y_pred = model.predict_classes(X_new)\n",
    "y_pred"
   ]
  },
  {
   "cell_type": "code",
   "execution_count": 30,
   "metadata": {},
   "outputs": [
    {
     "data": {
      "text/plain": [
       "array(['Ankle boot', 'Pullover', 'Trouser'], dtype='<U11')"
      ]
     },
     "execution_count": 30,
     "metadata": {},
     "output_type": "execute_result"
    }
   ],
   "source": [
    "np.array(class_names)[y_pred]"
   ]
  },
  {
   "cell_type": "markdown",
   "metadata": {},
   "source": [
    "# Regression with Keras"
   ]
  },
  {
   "cell_type": "code",
   "execution_count": 31,
   "metadata": {},
   "outputs": [],
   "source": [
    "from sklearn.datasets import fetch_california_housing\n",
    "from sklearn.model_selection import train_test_split\n",
    "from sklearn.preprocessing import StandardScaler"
   ]
  },
  {
   "cell_type": "code",
   "execution_count": 33,
   "metadata": {},
   "outputs": [],
   "source": [
    "housing = fetch_california_housing()\n",
    "\n",
    "X_train_full , X_test ,y_train_full , y_test = train_test_split(\n",
    "        housing.data,housing.target)\n",
    "\n",
    "X_train, X_valid , y_train , y_valid = train_test_split(X_train_full,y_train_full)"
   ]
  },
  {
   "cell_type": "code",
   "execution_count": 34,
   "metadata": {},
   "outputs": [],
   "source": [
    "scaler = StandardScaler()\n",
    "X_train = scaler.fit_transform(X_train)\n",
    "X_valid = scaler.fit_transform(X_valid)\n",
    "X_test = scaler.transform(X_test)"
   ]
  },
  {
   "cell_type": "code",
   "execution_count": 63,
   "metadata": {},
   "outputs": [
    {
     "name": "stdout",
     "output_type": "stream",
     "text": [
      "Train on 11610 samples, validate on 3870 samples\n",
      "Epoch 1/20\n",
      "WARNING:tensorflow:Entity <function Function._initialize_uninitialized_variables.<locals>.initialize_variables at 0x13c4dec80> could not be transformed and will be executed as-is. Please report this to the AutoGraph team. When filing the bug, set the verbosity to 10 (on Linux, `export AUTOGRAPH_VERBOSITY=10`) and attach the full output. Cause: module 'gast' has no attribute 'Num'\n",
      "WARNING: Entity <function Function._initialize_uninitialized_variables.<locals>.initialize_variables at 0x13c4dec80> could not be transformed and will be executed as-is. Please report this to the AutoGraph team. When filing the bug, set the verbosity to 10 (on Linux, `export AUTOGRAPH_VERBOSITY=10`) and attach the full output. Cause: module 'gast' has no attribute 'Num'\n",
      "11610/11610 [==============================] - 1s 82us/sample - loss: 0.8011 - val_loss: 0.5123\n",
      "Epoch 2/20\n",
      "11610/11610 [==============================] - 1s 45us/sample - loss: 0.4469 - val_loss: 0.4683\n",
      "Epoch 3/20\n",
      "11610/11610 [==============================] - 1s 44us/sample - loss: 0.4145 - val_loss: 0.4522\n",
      "Epoch 4/20\n",
      "11610/11610 [==============================] - 1s 44us/sample - loss: 0.4065 - val_loss: 0.4387\n",
      "Epoch 5/20\n",
      "11610/11610 [==============================] - 1s 44us/sample - loss: 0.3962 - val_loss: 0.4435\n",
      "Epoch 6/20\n",
      "11610/11610 [==============================] - 1s 45us/sample - loss: 0.3897 - val_loss: 0.4543\n",
      "Epoch 7/20\n",
      "11610/11610 [==============================] - 1s 44us/sample - loss: 0.3835 - val_loss: 0.4460\n",
      "Epoch 8/20\n",
      "11610/11610 [==============================] - 1s 46us/sample - loss: 0.4047 - val_loss: 0.4473\n",
      "Epoch 9/20\n",
      "11610/11610 [==============================] - 1s 49us/sample - loss: 0.3873 - val_loss: 0.4330\n",
      "Epoch 10/20\n",
      "11610/11610 [==============================] - 1s 51us/sample - loss: 0.3755 - val_loss: 0.4396\n",
      "Epoch 11/20\n",
      "11610/11610 [==============================] - 1s 47us/sample - loss: 0.3710 - val_loss: 0.4530\n",
      "Epoch 12/20\n",
      "11610/11610 [==============================] - 1s 44us/sample - loss: 0.3709 - val_loss: 0.4672\n",
      "Epoch 13/20\n",
      "11610/11610 [==============================] - 1s 44us/sample - loss: 0.3700 - val_loss: 0.4334\n",
      "Epoch 14/20\n",
      "11610/11610 [==============================] - 1s 45us/sample - loss: 0.3660 - val_loss: 0.4299\n",
      "Epoch 15/20\n",
      "11610/11610 [==============================] - 1s 44us/sample - loss: 0.3611 - val_loss: 0.4627\n",
      "Epoch 16/20\n",
      "11610/11610 [==============================] - 1s 45us/sample - loss: 0.3646 - val_loss: 0.4279\n",
      "Epoch 17/20\n",
      "11610/11610 [==============================] - 1s 47us/sample - loss: 0.3747 - val_loss: 0.4411\n",
      "Epoch 18/20\n",
      "11610/11610 [==============================] - 1s 45us/sample - loss: 0.3876 - val_loss: 0.4312\n",
      "Epoch 19/20\n",
      "11610/11610 [==============================] - 1s 45us/sample - loss: 0.3564 - val_loss: 0.4268\n",
      "Epoch 20/20\n",
      "11610/11610 [==============================] - 1s 45us/sample - loss: 0.3558 - val_loss: 0.4254\n"
     ]
    }
   ],
   "source": [
    "model = keras.models.Sequential([keras.layers.Dense(30,activation=\"relu\",input_shape=X_train.shape[1:]),keras.layers.Dense(1)])\n",
    "\n",
    "model.compile(loss=\"mean_squared_error\",optimizer=\"sgd\")\n",
    "\n",
    "history = model.fit(X_train,y_train,epochs=20,validation_data=(X_valid,y_valid))\n",
    "\n",
    "#mse_test = model.evaluate(X_test,y_test)\n",
    "X_new = X_test[:3]\n",
    "y_pred = model.predict(X_new)"
   ]
  },
  {
   "cell_type": "code",
   "execution_count": 38,
   "metadata": {},
   "outputs": [
    {
     "data": {
      "image/png": "[encoded data removed]",
      "text/plain": [
       "<Figure size 576x360 with 1 Axes>"
      ]
     },
     "metadata": {
      "needs_background": "light"
     },
     "output_type": "display_data"
    }
   ],
   "source": [
    "pd.DataFrame(history.history).plot(figsize=(8,5))\n",
    "plt.grid(True)\n",
    "plt.gca().set_ylim(0,1)\n",
    "plt.show()"
   ]
  },
  {
   "cell_type": "markdown",
   "metadata": {},
   "source": [
    "# Creating Modles using Functional API of Keras  (*wide and deep neural network*)"
   ]
  },
  {
   "cell_type": "code",
   "execution_count": 40,
   "metadata": {},
   "outputs": [
    {
     "name": "stdout",
     "output_type": "stream",
     "text": [
      "Train on 11610 samples, validate on 3870 samples\n",
      "Epoch 1/20\n",
      "WARNING:tensorflow:Entity <function Function._initialize_uninitialized_variables.<locals>.initialize_variables at 0x13b442488> could not be transformed and will be executed as-is. Please report this to the AutoGraph team. When filing the bug, set the verbosity to 10 (on Linux, `export AUTOGRAPH_VERBOSITY=10`) and attach the full output. Cause: module 'gast' has no attribute 'Num'\n",
      "WARNING: Entity <function Function._initialize_uninitialized_variables.<locals>.initialize_variables at 0x13b442488> could not be transformed and will be executed as-is. Please report this to the AutoGraph team. When filing the bug, set the verbosity to 10 (on Linux, `export AUTOGRAPH_VERBOSITY=10`) and attach the full output. Cause: module 'gast' has no attribute 'Num'\n",
      "11610/11610 [==============================] - 1s 75us/sample - loss: 0.6123 - val_loss: 0.4759\n",
      "Epoch 2/20\n",
      "11610/11610 [==============================] - 1s 48us/sample - loss: 0.4848 - val_loss: 0.4531\n",
      "Epoch 3/20\n",
      "11610/11610 [==============================] - 1s 47us/sample - loss: 0.3788 - val_loss: 0.4859\n",
      "Epoch 4/20\n",
      "11610/11610 [==============================] - 1s 46us/sample - loss: 0.3670 - val_loss: 0.4133\n",
      "Epoch 5/20\n",
      "11610/11610 [==============================] - 1s 47us/sample - loss: 0.3545 - val_loss: 0.4450\n",
      "Epoch 6/20\n",
      "11610/11610 [==============================] - 1s 46us/sample - loss: 0.3484 - val_loss: 0.4609\n",
      "Epoch 7/20\n",
      "11610/11610 [==============================] - 1s 48us/sample - loss: 0.3450 - val_loss: 0.4133\n",
      "Epoch 8/20\n",
      "11610/11610 [==============================] - 1s 47us/sample - loss: 0.3502 - val_loss: 0.4134\n",
      "Epoch 9/20\n",
      "11610/11610 [==============================] - 1s 47us/sample - loss: 0.3376 - val_loss: 0.4104\n",
      "Epoch 10/20\n",
      "11610/11610 [==============================] - 1s 46us/sample - loss: 0.3332 - val_loss: 0.4076\n",
      "Epoch 11/20\n",
      "11610/11610 [==============================] - 1s 46us/sample - loss: 0.3302 - val_loss: 0.4345\n",
      "Epoch 12/20\n",
      "11610/11610 [==============================] - 1s 46us/sample - loss: 0.3307 - val_loss: 0.4209\n",
      "Epoch 13/20\n",
      "11610/11610 [==============================] - 1s 47us/sample - loss: 0.3279 - val_loss: 0.4022\n",
      "Epoch 14/20\n",
      "11610/11610 [==============================] - 1s 49us/sample - loss: 0.3304 - val_loss: 0.3873\n",
      "Epoch 15/20\n",
      "11610/11610 [==============================] - 1s 46us/sample - loss: 0.3214 - val_loss: 0.4036\n",
      "Epoch 16/20\n",
      "11610/11610 [==============================] - 1s 47us/sample - loss: 0.3248 - val_loss: 0.3914\n",
      "Epoch 17/20\n",
      "11610/11610 [==============================] - 1s 46us/sample - loss: 0.3175 - val_loss: 0.4043\n",
      "Epoch 18/20\n",
      "11610/11610 [==============================] - 1s 47us/sample - loss: 0.3177 - val_loss: 0.4001\n",
      "Epoch 19/20\n",
      "11610/11610 [==============================] - 1s 48us/sample - loss: 0.3217 - val_loss: 0.3999\n",
      "Epoch 20/20\n",
      "11610/11610 [==============================] - 1s 49us/sample - loss: 0.3128 - val_loss: 0.4069\n"
     ]
    }
   ],
   "source": [
    "input_ = keras.layers.Input(shape=X_train.shape[1:])\n",
    "hidden1 = keras.layers.Dense(30,activation=\"relu\")(input_)\n",
    "hidden2 = keras.layers.Dense(30,activation=\"relu\")(hidden1)\n",
    "concat = keras.layers.Concatenate()([input_,hidden2])\n",
    "output = keras.layers.Dense(1)(concat)\n",
    "model = keras.Model(inputs = [input_] , outputs=[output])\n",
    "\n",
    "\n",
    "model.compile(loss=\"mean_squared_error\",optimizer=\"sgd\")\n",
    "\n",
    "history = model.fit(X_train,y_train,epochs=20,validation_data=(X_valid,y_valid))\n"
   ]
  },
  {
   "cell_type": "code",
   "execution_count": 41,
   "metadata": {},
   "outputs": [
    {
     "data": {
      "image/png": "[encoded data removed]",
      "text/plain": [
       "<Figure size 576x360 with 1 Axes>"
      ]
     },
     "metadata": {
      "needs_background": "light"
     },
     "output_type": "display_data"
    }
   ],
   "source": [
    "pd.DataFrame(history.history).plot(figsize=(8,5))\n",
    "plt.grid(True)\n",
    "plt.gca().set_ylim(0,1)\n",
    "plt.show()"
   ]
  },
  {
   "cell_type": "code",
   "execution_count": 64,
   "metadata": {},
   "outputs": [],
   "source": [
    "input_A = keras.layers.Input(shape=[5],name=\"wide_input\")\n",
    "input_B = keras.layers.Input(shape=[6],name=\"deep_input\")\n",
    "hidden1 = keras.layers.Dense(30,activation=\"relu\")(input_B)\n",
    "hidden2 = keras.layers.Dense(30,activation=\"relu\")(hidden1)\n",
    "concat = keras.layers.concatenate([input_A,hidden2])\n",
    "output = keras.layers.Dense(1,name=\"output\")(concat)\n",
    "model = keras.Model(inputs=[input_A,input_B],outputs=[output])\n",
    "model.compile(loss=\"mse\",optimizer=keras.optimizers.SGD(lr=1e-3))\n",
    "\n"
   ]
  },
  {
   "cell_type": "code",
   "execution_count": 66,
   "metadata": {},
   "outputs": [],
   "source": [
    "X_train_A , X_train_B = X_train[:,:5],X_train[:,2:]\n",
    "X_test_A , X_test_B = X_test[:,:5],X_test[:,2:]\n",
    "X_valid_A , X_valid_B = X_valid[:,:5],X_valid[:,2:]\n",
    "X_new_A , X_new_B = X_test_A[:3],X_test_B[:3]"
   ]
  },
  {
   "cell_type": "code",
   "execution_count": 91,
   "metadata": {},
   "outputs": [
    {
     "name": "stdout",
     "output_type": "stream",
     "text": [
      "Train on 11610 samples, validate on 3870 samples\n",
      "Epoch 1/20\n",
      "11610/11610 [==============================] - 1s 49us/sample - loss: 0.3397 - val_loss: 0.4171\n",
      "Epoch 2/20\n",
      "11610/11610 [==============================] - 1s 49us/sample - loss: 0.3395 - val_loss: 0.4200\n",
      "Epoch 3/20\n",
      "11610/11610 [==============================] - 1s 49us/sample - loss: 0.3392 - val_loss: 0.4167\n",
      "Epoch 4/20\n",
      "11610/11610 [==============================] - 1s 48us/sample - loss: 0.3389 - val_loss: 0.4088\n",
      "Epoch 5/20\n",
      "11610/11610 [==============================] - 1s 49us/sample - loss: 0.3387 - val_loss: 0.4206\n",
      "Epoch 6/20\n",
      "11610/11610 [==============================] - 1s 50us/sample - loss: 0.3381 - val_loss: 0.4123\n",
      "Epoch 7/20\n",
      "11610/11610 [==============================] - 1s 49us/sample - loss: 0.3379 - val_loss: 0.4177\n",
      "Epoch 8/20\n",
      "11610/11610 [==============================] - 1s 48us/sample - loss: 0.3377 - val_loss: 0.4213\n",
      "Epoch 9/20\n",
      "11610/11610 [==============================] - 1s 49us/sample - loss: 0.3373 - val_loss: 0.4167\n",
      "Epoch 10/20\n",
      "11610/11610 [==============================] - 1s 49us/sample - loss: 0.3370 - val_loss: 0.4232\n",
      "Epoch 11/20\n",
      "11610/11610 [==============================] - 1s 49us/sample - loss: 0.3368 - val_loss: 0.4143\n",
      "Epoch 12/20\n",
      "11610/11610 [==============================] - 1s 49us/sample - loss: 0.3365 - val_loss: 0.4161\n",
      "Epoch 13/20\n",
      "11610/11610 [==============================] - 1s 49us/sample - loss: 0.3360 - val_loss: 0.4161\n",
      "Epoch 14/20\n",
      "11610/11610 [==============================] - 1s 49us/sample - loss: 0.3361 - val_loss: 0.4123\n",
      "Epoch 15/20\n",
      "11610/11610 [==============================] - 1s 49us/sample - loss: 0.3357 - val_loss: 0.4165\n",
      "Epoch 16/20\n",
      "11610/11610 [==============================] - 1s 51us/sample - loss: 0.3353 - val_loss: 0.4134\n",
      "Epoch 17/20\n",
      "11610/11610 [==============================] - 1s 52us/sample - loss: 0.3352 - val_loss: 0.4119\n",
      "Epoch 18/20\n",
      "11610/11610 [==============================] - 1s 52us/sample - loss: 0.3347 - val_loss: 0.4083\n",
      "Epoch 19/20\n",
      "11610/11610 [==============================] - 1s 50us/sample - loss: 0.3346 - val_loss: 0.4160\n",
      "Epoch 20/20\n",
      "11610/11610 [==============================] - 1s 49us/sample - loss: 0.3344 - val_loss: 0.4165\n"
     ]
    }
   ],
   "source": [
    "history = model.fit((X_train_A,X_train_B),y_train,epochs=20,validation_data=((X_valid_A,X_valid_B),y_valid))\n"
   ]
  },
  {
   "cell_type": "code",
   "execution_count": 72,
   "metadata": {},
   "outputs": [],
   "source": [
    "#mse_test = model.evaluate((X_test_A,X_test_B),y_test)\n",
    "y_pred = model.predict((X_new_A,X_new_B))"
   ]
  },
  {
   "cell_type": "code",
   "execution_count": 75,
   "metadata": {},
   "outputs": [
    {
     "data": {
      "image/png": "[encoded data removed]",
      "text/plain": [
       "<Figure size 576x360 with 1 Axes>"
      ]
     },
     "metadata": {
      "needs_background": "light"
     },
     "output_type": "display_data"
    }
   ],
   "source": [
    "pd.DataFrame(history.history).plot(figsize=(8,5))\n",
    "plt.grid(True)\n",
    "plt.gca().set_ylim(0,1)\n",
    "plt.show()"
   ]
  },
  {
   "cell_type": "markdown",
   "metadata": {},
   "source": [
    "# Using the Subclassing API to Build Dynamic Models"
   ]
  },
  {
   "cell_type": "code",
   "execution_count": null,
   "metadata": {},
   "outputs": [],
   "source": [
    "class WideandDeepModel(keras,Model):\n",
    "    def __init__(self,units=30,activation=\"relu\",**kwargs):\n",
    "        super().__init__(**kwargs) # handles standard args (eg;,name)\n",
    "        self.hidden1 = keras.layers.Dense(units,activation=activation)\n",
    "        self.hidden2 = keras.layers.Dense(units,activation=activation)\n",
    "        self.main_output = keras.layers.Dense(1)\n",
    "        self.aux_output = keras.layers.Dense(1)\n",
    "    \n",
    "    def call(self,inputs):\n",
    "        input_A , input_B = inputs\n",
    "        hidden1 = self.hidden1(input_B)\n",
    "        hidden2 = self.hidden2(hidden1)\n",
    "        concat = keras.concatenate([input_A,hidden2])\n",
    "        main_output = self.main_output(concat)\n",
    "        aux_output = self.aux_output(hidden2)\n",
    "        return main_output, aux_output\n",
    "    \n",
    "    \n",
    "#model = WideandDeepModel()\n",
    "\n"
   ]
  },
  {
   "cell_type": "markdown",
   "metadata": {},
   "source": [
    "# Saving Models and Using Callbacks"
   ]
  },
  {
   "cell_type": "code",
   "execution_count": 97,
   "metadata": {},
   "outputs": [
    {
     "ename": "TypeError",
     "evalue": "'str' object is not callable",
     "output_type": "error",
     "traceback": [
      "\u001b[0;31m---------------------------------------------------------------------------\u001b[0m",
      "\u001b[0;31mTypeError\u001b[0m                                 Traceback (most recent call last)",
      "\u001b[0;32m<ipython-input-97-3860e2d75239>\u001b[0m in \u001b[0;36m<module>\u001b[0;34m\u001b[0m\n\u001b[1;32m      1\u001b[0m \u001b[0;31m#model_path = os.path.join(DIR_PATH,\"my_keras_model.h5\")\u001b[0m\u001b[0;34m\u001b[0m\u001b[0;34m\u001b[0m\u001b[0;34m\u001b[0m\u001b[0m\n\u001b[0;32m----> 2\u001b[0;31m \u001b[0mmodel\u001b[0m\u001b[0;34m.\u001b[0m\u001b[0msave\u001b[0m\u001b[0;34m(\u001b[0m\u001b[0;34m\"my_keras_model.h5\"\u001b[0m\u001b[0;34m)\u001b[0m\u001b[0;34m\u001b[0m\u001b[0;34m\u001b[0m\u001b[0m\n\u001b[0m",
      "\u001b[0;31mTypeError\u001b[0m: 'str' object is not callable"
     ]
    }
   ],
   "source": [
    "#model_path = os.path.join(DIR_PATH,\"my_keras_model.h5\")\n",
    "model.save(\"my_keras_model.h5\")"
   ]
  },
  {
   "cell_type": "code",
   "execution_count": 90,
   "metadata": {},
   "outputs": [
    {
     "ename": "OSError",
     "evalue": "SavedModel file does not exist at: /Users/deepanshu.kandpal/Documents/MYJIOPROJECTS/HELLOJIOML/POC MACHINE LEARNINGS/hands-on-machine-learning/JUPYTER NOTEBOOKS/my_keras_model.h5/{saved_model.pbtxt|saved_model.pb}",
     "output_type": "error",
     "traceback": [
      "\u001b[0;31m---------------------------------------------------------------------------\u001b[0m",
      "\u001b[0;31mOSError\u001b[0m                                   Traceback (most recent call last)",
      "\u001b[0;32m<ipython-input-90-3af23dd241aa>\u001b[0m in \u001b[0;36m<module>\u001b[0;34m\u001b[0m\n\u001b[0;32m----> 1\u001b[0;31m \u001b[0mmodel\u001b[0m \u001b[0;34m=\u001b[0m \u001b[0mkeras\u001b[0m\u001b[0;34m.\u001b[0m\u001b[0mmodels\u001b[0m\u001b[0;34m.\u001b[0m\u001b[0mload_model\u001b[0m\u001b[0;34m(\u001b[0m \u001b[0mos\u001b[0m\u001b[0;34m.\u001b[0m\u001b[0mpath\u001b[0m\u001b[0;34m.\u001b[0m\u001b[0mjoin\u001b[0m\u001b[0;34m(\u001b[0m\u001b[0mDIR_PATH\u001b[0m\u001b[0;34m,\u001b[0m\u001b[0;34m\"my_keras_model.h5\"\u001b[0m\u001b[0;34m)\u001b[0m\u001b[0;34m)\u001b[0m\u001b[0;34m\u001b[0m\u001b[0;34m\u001b[0m\u001b[0m\n\u001b[0m",
      "\u001b[0;32m~/anaconda3/lib/python3.6/site-packages/tensorflow_core/python/keras/saving/save.py\u001b[0m in \u001b[0;36mload_model\u001b[0;34m(filepath, custom_objects, compile)\u001b[0m\n\u001b[1;32m    144\u001b[0m \u001b[0;34m\u001b[0m\u001b[0m\n\u001b[1;32m    145\u001b[0m   \u001b[0;32mif\u001b[0m \u001b[0misinstance\u001b[0m\u001b[0;34m(\u001b[0m\u001b[0mfilepath\u001b[0m\u001b[0;34m,\u001b[0m \u001b[0msix\u001b[0m\u001b[0;34m.\u001b[0m\u001b[0mstring_types\u001b[0m\u001b[0;34m)\u001b[0m\u001b[0;34m:\u001b[0m\u001b[0;34m\u001b[0m\u001b[0;34m\u001b[0m\u001b[0m\n\u001b[0;32m--> 146\u001b[0;31m     \u001b[0mloader_impl\u001b[0m\u001b[0;34m.\u001b[0m\u001b[0mparse_saved_model\u001b[0m\u001b[0;34m(\u001b[0m\u001b[0mfilepath\u001b[0m\u001b[0;34m)\u001b[0m\u001b[0;34m\u001b[0m\u001b[0;34m\u001b[0m\u001b[0m\n\u001b[0m\u001b[1;32m    147\u001b[0m     \u001b[0;32mreturn\u001b[0m \u001b[0msaved_model_load\u001b[0m\u001b[0;34m.\u001b[0m\u001b[0mload\u001b[0m\u001b[0;34m(\u001b[0m\u001b[0mfilepath\u001b[0m\u001b[0;34m,\u001b[0m \u001b[0mcompile\u001b[0m\u001b[0;34m)\u001b[0m\u001b[0;34m\u001b[0m\u001b[0;34m\u001b[0m\u001b[0m\n\u001b[1;32m    148\u001b[0m \u001b[0;34m\u001b[0m\u001b[0m\n",
      "\u001b[0;32m~/anaconda3/lib/python3.6/site-packages/tensorflow_core/python/saved_model/loader_impl.py\u001b[0m in \u001b[0;36mparse_saved_model\u001b[0;34m(export_dir)\u001b[0m\n\u001b[1;32m     81\u001b[0m                   (export_dir,\n\u001b[1;32m     82\u001b[0m                    \u001b[0mconstants\u001b[0m\u001b[0;34m.\u001b[0m\u001b[0mSAVED_MODEL_FILENAME_PBTXT\u001b[0m\u001b[0;34m,\u001b[0m\u001b[0;34m\u001b[0m\u001b[0;34m\u001b[0m\u001b[0m\n\u001b[0;32m---> 83\u001b[0;31m                    constants.SAVED_MODEL_FILENAME_PB))\n\u001b[0m\u001b[1;32m     84\u001b[0m \u001b[0;34m\u001b[0m\u001b[0m\n\u001b[1;32m     85\u001b[0m \u001b[0;34m\u001b[0m\u001b[0m\n",
      "\u001b[0;31mOSError\u001b[0m: SavedModel file does not exist at: /Users/deepanshu.kandpal/Documents/MYJIOPROJECTS/HELLOJIOML/POC MACHINE LEARNINGS/hands-on-machine-learning/JUPYTER NOTEBOOKS/my_keras_model.h5/{saved_model.pbtxt|saved_model.pb}"
     ]
    }
   ],
   "source": [
    "model = keras.models.load_model(os.path.join(DIR_PATH,\"my_keras_model.h5\"))"
   ]
  },
  {
   "cell_type": "code",
   "execution_count": null,
   "metadata": {},
   "outputs": [],
   "source": []
  }
 ],
 "metadata": {
  "kernelspec": {
   "display_name": "Python 3",
   "language": "python",
   "name": "python3"
  },
  "language_info": {
   "codemirror_mode": {
    "name": "ipython",
    "version": 3
   },
   "file_extension": ".py",
   "mimetype": "text/x-python",
   "name": "python",
   "nbconvert_exporter": "python",
   "pygments_lexer": "ipython3",
   "version": "3.6.8"
  }
 },
 "nbformat": 4,
 "nbformat_minor": 2
}
