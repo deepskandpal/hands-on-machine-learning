{
 "cells": [
  {
   "cell_type": "markdown",
   "metadata": {},
   "source": [
    "# Introduction to neural Networks with Tensorflow and Keras"
   ]
  },
  {
   "cell_type": "code",
   "execution_count": 1,
   "metadata": {},
   "outputs": [
    {
     "name": "stderr",
     "output_type": "stream",
     "text": [
      "/Users/deepanshu.kandpal/anaconda3/lib/python3.6/site-packages/matplotlib/__init__.py:1003: UserWarning: Duplicate key in file \"/Users/deepanshu.kandpal/.matplotlib/matplotlibrc\", line #2\n",
      "  (fname, cnt))\n"
     ]
    },
    {
     "name": "stdout",
     "output_type": "stream",
     "text": [
      "Downloading data from https://storage.googleapis.com/tensorflow/tf-keras-datasets/train-labels-idx1-ubyte.gz\n",
      "32768/29515 [=================================] - 0s 0us/step\n",
      "Downloading data from https://storage.googleapis.com/tensorflow/tf-keras-datasets/train-images-idx3-ubyte.gz\n",
      "26427392/26421880 [==============================] - 2s 0us/step\n",
      "Downloading data from https://storage.googleapis.com/tensorflow/tf-keras-datasets/t10k-labels-idx1-ubyte.gz\n",
      "8192/5148 [===============================================] - 0s 0us/step\n",
      "Downloading data from https://storage.googleapis.com/tensorflow/tf-keras-datasets/t10k-images-idx3-ubyte.gz\n",
      "4423680/4422102 [==============================] - 0s 0us/step\n"
     ]
    }
   ],
   "source": [
    "import os, ssl\n",
    "if (not os.environ.get('PYTHONHTTPSVERIFY', '') and\n",
    "    getattr(ssl, '_create_unverified_context', None)): \n",
    "    ssl._create_default_https_context = ssl._create_unverified_context\n",
    "\n",
    "import tensorflow as tf\n",
    "\n",
    "from tensorflow import keras\n",
    "\n",
    "fashion_mnist = keras.datasets.fashion_mnist\n",
    "\n",
    "(X_train_full, y_train_full),(X_test,y_test) = fashion_mnist.load_data()\n"
   ]
  },
  {
   "cell_type": "markdown",
   "metadata": {},
   "source": [
    "# Preparing the data set"
   ]
  },
  {
   "cell_type": "code",
   "execution_count": null,
   "metadata": {},
   "outputs": [],
   "source": [
    "X_train_full.shape"
   ]
  },
  {
   "cell_type": "code",
   "execution_count": 8,
   "metadata": {},
   "outputs": [
    {
     "data": {
      "text/plain": [
       "dtype('uint8')"
      ]
     },
     "execution_count": 8,
     "metadata": {},
     "output_type": "execute_result"
    }
   ],
   "source": [
    "X_train_full.dtype"
   ]
  },
  {
   "cell_type": "code",
   "execution_count": 4,
   "metadata": {},
   "outputs": [],
   "source": [
    "X_valid,X_train = X_train_full[:5000]/255.0,X_train_full[5000:]/255.0"
   ]
  },
  {
   "cell_type": "code",
   "execution_count": 5,
   "metadata": {},
   "outputs": [],
   "source": [
    "y_valid , y_train = y_train_full[:5000] , y_train_full[5000:]"
   ]
  },
  {
   "cell_type": "code",
   "execution_count": 6,
   "metadata": {},
   "outputs": [],
   "source": [
    "class_names = [\"T-shirt/top\",\"Trouser\",\"Pullover\",\"Dress\",\"Coat\",\"Sandal\",\"Shirt\",\"Sneaker\",\"Bag\",\"Ankle boot\"]"
   ]
  },
  {
   "cell_type": "code",
   "execution_count": 7,
   "metadata": {},
   "outputs": [
    {
     "data": {
      "text/plain": [
       "'Coat'"
      ]
     },
     "execution_count": 7,
     "metadata": {},
     "output_type": "execute_result"
    }
   ],
   "source": [
    "class_names[y_train[0]]"
   ]
  },
  {
   "cell_type": "markdown",
   "metadata": {},
   "source": [
    "# Creating Model using Sequential API Keras"
   ]
  },
  {
   "cell_type": "code",
   "execution_count": 9,
   "metadata": {},
   "outputs": [],
   "source": [
    "model = keras.models.Sequential()\n",
    "model.add(keras.layers.Flatten(input_shape=[28,28]))\n",
    "model.add(keras.layers.Dense(300,activation=\"relu\"))\n",
    "model.add(keras.layers.Dense(100,activation=\"relu\"))\n",
    "model.add(keras.layers.Dense(10,activation=\"softmax\"))"
   ]
  },
  {
   "cell_type": "code",
   "execution_count": 11,
   "metadata": {},
   "outputs": [
    {
     "name": "stdout",
     "output_type": "stream",
     "text": [
      "Model: \"sequential\"\n",
      "_________________________________________________________________\n",
      "Layer (type)                 Output Shape              Param #   \n",
      "=================================================================\n",
      "flatten (Flatten)            (None, 784)               0         \n",
      "_________________________________________________________________\n",
      "dense (Dense)                (None, 300)               235500    \n",
      "_________________________________________________________________\n",
      "dense_1 (Dense)              (None, 100)               30100     \n",
      "_________________________________________________________________\n",
      "dense_2 (Dense)              (None, 10)                1010      \n",
      "=================================================================\n",
      "Total params: 266,610\n",
      "Trainable params: 266,610\n",
      "Non-trainable params: 0\n",
      "_________________________________________________________________\n"
     ]
    }
   ],
   "source": [
    "model.summary()"
   ]
  },
  {
   "cell_type": "code",
   "execution_count": 16,
   "metadata": {},
   "outputs": [
    {
     "data": {
      "text/plain": [
       "(784, 300)"
      ]
     },
     "execution_count": 16,
     "metadata": {},
     "output_type": "execute_result"
    }
   ],
   "source": [
    "model.layers\n",
    "hidden1 = model.layers[1]\n",
    "hidden1.name\n",
    "\n",
    "weights , biases = hidden1.get_weights()\n",
    "weights.shape"
   ]
  },
  {
   "cell_type": "code",
   "execution_count": 18,
   "metadata": {},
   "outputs": [],
   "source": [
    "model.compile(loss = \"sparse_categorical_crossentropy\",optimizer=\"sgd\",metrics=[\"accuracy\"])"
   ]
  },
  {
   "cell_type": "code",
   "execution_count": 19,
   "metadata": {},
   "outputs": [
    {
     "name": "stdout",
     "output_type": "stream",
     "text": [
      "Train on 55000 samples, validate on 5000 samples\n",
      "Epoch 1/30\n",
      "WARNING:tensorflow:Entity <function Function._initialize_uninitialized_variables.<locals>.initialize_variables at 0x154bb1f28> could not be transformed and will be executed as-is. Please report this to the AutoGraph team. When filing the bug, set the verbosity to 10 (on Linux, `export AUTOGRAPH_VERBOSITY=10`) and attach the full output. Cause: module 'gast' has no attribute 'Num'\n",
      "WARNING: Entity <function Function._initialize_uninitialized_variables.<locals>.initialize_variables at 0x154bb1f28> could not be transformed and will be executed as-is. Please report this to the AutoGraph team. When filing the bug, set the verbosity to 10 (on Linux, `export AUTOGRAPH_VERBOSITY=10`) and attach the full output. Cause: module 'gast' has no attribute 'Num'\n",
      "55000/55000 [==============================] - 5s 96us/sample - loss: 0.7246 - accuracy: 0.7611 - val_loss: 0.5050 - val_accuracy: 0.8300\n",
      "Epoch 2/30\n",
      "55000/55000 [==============================] - 5s 88us/sample - loss: 0.4880 - accuracy: 0.8309 - val_loss: 0.4771 - val_accuracy: 0.8376\n",
      "Epoch 3/30\n",
      "55000/55000 [==============================] - 5s 89us/sample - loss: 0.4428 - accuracy: 0.8454 - val_loss: 0.4280 - val_accuracy: 0.8544\n",
      "Epoch 4/30\n",
      "55000/55000 [==============================] - 5s 89us/sample - loss: 0.4150 - accuracy: 0.8534 - val_loss: 0.4250 - val_accuracy: 0.8458\n",
      "Epoch 5/30\n",
      "55000/55000 [==============================] - 5s 91us/sample - loss: 0.3945 - accuracy: 0.8615 - val_loss: 0.3852 - val_accuracy: 0.8686\n",
      "Epoch 6/30\n",
      "55000/55000 [==============================] - 5s 92us/sample - loss: 0.3794 - accuracy: 0.8665 - val_loss: 0.3932 - val_accuracy: 0.8628\n",
      "Epoch 7/30\n",
      "55000/55000 [==============================] - 5s 91us/sample - loss: 0.3660 - accuracy: 0.8705 - val_loss: 0.3884 - val_accuracy: 0.8688\n",
      "Epoch 8/30\n",
      "55000/55000 [==============================] - 5s 89us/sample - loss: 0.3535 - accuracy: 0.8751 - val_loss: 0.3540 - val_accuracy: 0.8752\n",
      "Epoch 9/30\n",
      "55000/55000 [==============================] - 5s 93us/sample - loss: 0.3448 - accuracy: 0.8768 - val_loss: 0.3518 - val_accuracy: 0.8818\n",
      "Epoch 10/30\n",
      "55000/55000 [==============================] - 5s 91us/sample - loss: 0.3347 - accuracy: 0.8811 - val_loss: 0.3445 - val_accuracy: 0.8796\n",
      "Epoch 11/30\n",
      "55000/55000 [==============================] - 5s 92us/sample - loss: 0.3252 - accuracy: 0.8850 - val_loss: 0.3341 - val_accuracy: 0.8836\n",
      "Epoch 12/30\n",
      "55000/55000 [==============================] - 5s 89us/sample - loss: 0.3173 - accuracy: 0.8874 - val_loss: 0.3334 - val_accuracy: 0.8838\n",
      "Epoch 13/30\n",
      "55000/55000 [==============================] - 5s 88us/sample - loss: 0.3101 - accuracy: 0.8890 - val_loss: 0.3230 - val_accuracy: 0.8842\n",
      "Epoch 14/30\n",
      "55000/55000 [==============================] - 5s 91us/sample - loss: 0.3028 - accuracy: 0.8916 - val_loss: 0.3391 - val_accuracy: 0.8810\n",
      "Epoch 15/30\n",
      "55000/55000 [==============================] - 5s 91us/sample - loss: 0.2965 - accuracy: 0.8933 - val_loss: 0.3536 - val_accuracy: 0.8698\n",
      "Epoch 16/30\n",
      "55000/55000 [==============================] - 5s 90us/sample - loss: 0.2903 - accuracy: 0.8965 - val_loss: 0.3179 - val_accuracy: 0.8874\n",
      "Epoch 17/30\n",
      "55000/55000 [==============================] - 5s 90us/sample - loss: 0.2841 - accuracy: 0.8966 - val_loss: 0.3164 - val_accuracy: 0.8906\n",
      "Epoch 18/30\n",
      "55000/55000 [==============================] - 5s 90us/sample - loss: 0.2782 - accuracy: 0.8989 - val_loss: 0.3171 - val_accuracy: 0.8864\n",
      "Epoch 19/30\n",
      "55000/55000 [==============================] - 5s 90us/sample - loss: 0.2733 - accuracy: 0.9022 - val_loss: 0.3201 - val_accuracy: 0.8864\n",
      "Epoch 20/30\n",
      "55000/55000 [==============================] - 5s 91us/sample - loss: 0.2688 - accuracy: 0.9037 - val_loss: 0.3112 - val_accuracy: 0.8924\n",
      "Epoch 21/30\n",
      "55000/55000 [==============================] - 5s 91us/sample - loss: 0.2638 - accuracy: 0.9048 - val_loss: 0.3019 - val_accuracy: 0.8968\n",
      "Epoch 22/30\n",
      "55000/55000 [==============================] - 5s 91us/sample - loss: 0.2581 - accuracy: 0.9071 - val_loss: 0.2986 - val_accuracy: 0.8968\n",
      "Epoch 23/30\n",
      "55000/55000 [==============================] - 5s 91us/sample - loss: 0.2538 - accuracy: 0.9095 - val_loss: 0.3045 - val_accuracy: 0.8960\n",
      "Epoch 24/30\n",
      "55000/55000 [==============================] - 5s 91us/sample - loss: 0.2500 - accuracy: 0.9104 - val_loss: 0.3029 - val_accuracy: 0.8916\n",
      "Epoch 25/30\n",
      "55000/55000 [==============================] - 5s 91us/sample - loss: 0.2451 - accuracy: 0.9125 - val_loss: 0.2904 - val_accuracy: 0.8976\n",
      "Epoch 26/30\n",
      "55000/55000 [==============================] - 5s 89us/sample - loss: 0.2421 - accuracy: 0.9130 - val_loss: 0.3008 - val_accuracy: 0.8900\n",
      "Epoch 27/30\n",
      "55000/55000 [==============================] - 5s 90us/sample - loss: 0.2371 - accuracy: 0.9142 - val_loss: 0.3026 - val_accuracy: 0.8960\n",
      "Epoch 28/30\n",
      "55000/55000 [==============================] - 5s 91us/sample - loss: 0.2338 - accuracy: 0.9160 - val_loss: 0.3319 - val_accuracy: 0.8776\n",
      "Epoch 29/30\n",
      "55000/55000 [==============================] - 5s 93us/sample - loss: 0.2292 - accuracy: 0.9176 - val_loss: 0.2928 - val_accuracy: 0.8950\n",
      "Epoch 30/30\n",
      "55000/55000 [==============================] - 5s 92us/sample - loss: 0.2256 - accuracy: 0.9194 - val_loss: 0.2929 - val_accuracy: 0.8970\n"
     ]
    }
   ],
   "source": [
    "history = model.fit(X_train,y_train,epochs=30,validation_data=(X_valid,y_valid))"
   ]
  },
  {
   "cell_type": "code",
   "execution_count": null,
   "metadata": {},
   "outputs": [],
   "source": []
  }
 ],
 "metadata": {
  "kernelspec": {
   "display_name": "Python 3",
   "language": "python",
   "name": "python3"
  },
  "language_info": {
   "codemirror_mode": {
    "name": "ipython",
    "version": 3
   },
   "file_extension": ".py",
   "mimetype": "text/x-python",
   "name": "python",
   "nbconvert_exporter": "python",
   "pygments_lexer": "ipython3",
   "version": "3.6.8"
  }
 },
 "nbformat": 4,
 "nbformat_minor": 2
}
