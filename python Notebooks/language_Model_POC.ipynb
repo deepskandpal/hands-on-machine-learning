{
  "nbformat": 4,
  "nbformat_minor": 0,
  "metadata": {
    "colab": {
      "name": "language Model POC",
      "provenance": [],
      "authorship_tag": "ABX9TyMO2Cpmd6iXVptVdWs4Hzsy",
      "include_colab_link": true
    },
    "kernelspec": {
      "name": "python3",
      "display_name": "Python 3"
    },
    "accelerator": "GPU"
  },
  "cells": [
    {
      "cell_type": "markdown",
      "metadata": {
        "id": "view-in-github",
        "colab_type": "text"
      },
      "source": [
        "<a href=\"https://colab.research.google.com/github/deepskandpal/hands-on-machine-learning/blob/POC/language_Model_POC.ipynb\" target=\"_parent\"><img src=\"https://colab.research.google.com/assets/colab-badge.svg\" alt=\"Open In Colab\"/></a>"
      ]
    },
    {
      "cell_type": "markdown",
      "metadata": {
        "id": "Zni81877oeG-",
        "colab_type": "text"
      },
      "source": [
        "### Building an N-gram Language Model"
      ]
    },
    {
      "cell_type": "code",
      "metadata": {
        "id": "apuZHh-JoWlm",
        "colab_type": "code",
        "colab": {
          "base_uri": "https://localhost:8080/",
          "height": 85
        },
        "outputId": "4029be5b-633d-4b6a-917d-d5d63a769836"
      },
      "source": [
        "import nltk\n",
        "nltk.download('reuters')\n",
        "nltk.download('punkt')\n",
        "from nltk.corpus import reuters\n",
        "from nltk import bigrams, trigrams\n",
        "from collections import Counter, defaultdict\n",
        "\n",
        "# Create a placeholder for model\n",
        "model = defaultdict(lambda: defaultdict(lambda: 0))\n",
        "\n",
        "# Count frequency of co-occurance  \n",
        "for sentence in reuters.sents():\n",
        "    for w1, w2, w3 in trigrams(sentence, pad_right=True, pad_left=True):\n",
        "        model[(w1, w2)][w3] += 1\n",
        " \n",
        "# Let's transform the counts to probabilities\n",
        "for w1_w2 in model:\n",
        "    total_count = float(sum(model[w1_w2].values()))\n",
        "    for w3 in model[w1_w2]:\n",
        "        model[w1_w2][w3] /= total_count"
      ],
      "execution_count": 5,
      "outputs": [
        {
          "output_type": "stream",
          "text": [
            "[nltk_data] Downloading package reuters to /root/nltk_data...\n",
            "[nltk_data]   Package reuters is already up-to-date!\n",
            "[nltk_data] Downloading package punkt to /root/nltk_data...\n",
            "[nltk_data]   Unzipping tokenizers/punkt.zip.\n"
          ],
          "name": "stdout"
        }
      ]
    },
    {
      "cell_type": "code",
      "metadata": {
        "id": "ouT88cmSpe2W",
        "colab_type": "code",
        "colab": {
          "base_uri": "https://localhost:8080/",
          "height": 272
        },
        "outputId": "48c7386a-3113-455b-95e9-e5fc3c65c1a5"
      },
      "source": [
        "dict(model[\"today\", \"the\"])"
      ],
      "execution_count": 6,
      "outputs": [
        {
          "output_type": "execute_result",
          "data": {
            "text/plain": [
              "{'Bank': 0.05555555555555555,\n",
              " 'European': 0.05555555555555555,\n",
              " 'Higher': 0.05555555555555555,\n",
              " 'Italian': 0.05555555555555555,\n",
              " 'Turkish': 0.05555555555555555,\n",
              " 'company': 0.16666666666666666,\n",
              " 'emirate': 0.05555555555555555,\n",
              " 'increase': 0.05555555555555555,\n",
              " 'newspaper': 0.05555555555555555,\n",
              " 'options': 0.05555555555555555,\n",
              " 'overseas': 0.05555555555555555,\n",
              " 'pound': 0.05555555555555555,\n",
              " 'price': 0.1111111111111111,\n",
              " 'public': 0.05555555555555555,\n",
              " 'time': 0.05555555555555555}"
            ]
          },
          "metadata": {
            "tags": []
          },
          "execution_count": 6
        }
      ]
    },
    {
      "cell_type": "code",
      "metadata": {
        "id": "sqWynRZxqHb8",
        "colab_type": "code",
        "colab": {
          "base_uri": "https://localhost:8080/",
          "height": 54
        },
        "outputId": "f0e3c7e4-1e64-4f7f-f0e9-e240888b3741"
      },
      "source": [
        "# code courtesy of https://nlpforhackers.io/language-models/\n",
        "\n",
        "import random\n",
        "\n",
        "# starting words\n",
        "text = [\"today\", \"the\"]\n",
        "sentence_finished = False\n",
        " \n",
        "while not sentence_finished:\n",
        "  # select a random probability threshold  \n",
        "  r = random.random()\n",
        "  accumulator = .0\n",
        "\n",
        "  for word in model[tuple(text[-2:])].keys():\n",
        "      accumulator += model[tuple(text[-2:])][word]\n",
        "      # select words that are above the probability threshold\n",
        "      if accumulator >= r:\n",
        "          text.append(word)\n",
        "          break\n",
        "\n",
        "  if text[-2:] == [None, None]:\n",
        "      sentence_finished = True\n",
        " \n",
        "print (' '.join([t for t in text if t]))"
      ],
      "execution_count": 8,
      "outputs": [
        {
          "output_type": "stream",
          "text": [
            "today the company said it had not intended when it sold 89 , 000 ha more than two pct higher than the actual revenue decisions left to the Paris accord , sources close to current expectations and BAT shares firmed by two dlrs on the raw sugar from French producers alone , everyone will buy cotton produced in many parts of the King family and estate of 7 . 0 943 . 0 mln\n"
          ],
          "name": "stdout"
        }
      ]
    },
    {
      "cell_type": "markdown",
      "metadata": {
        "id": "D20NdzkKqi3S",
        "colab_type": "text"
      },
      "source": [
        "### DL FOR LANGUAGE MODEL"
      ]
    },
    {
      "cell_type": "code",
      "metadata": {
        "id": "GBoY9UEzqikA",
        "colab_type": "code",
        "colab": {}
      },
      "source": [
        "import numpy as np\n",
        "import pandas as pd\n",
        "from keras.utils import to_categorical\n",
        "from keras.preprocessing.sequence import pad_sequences\n",
        "from keras.models import Sequential\n",
        "from keras.layers import LSTM, Dense, GRU, Embedding\n",
        "from keras.callbacks import EarlyStopping, ModelCheckpoint"
      ],
      "execution_count": 9,
      "outputs": []
    },
    {
      "cell_type": "code",
      "metadata": {
        "id": "weIlhA6cqnA9",
        "colab_type": "code",
        "colab": {}
      },
      "source": [
        "data_text = \"\"\"The unanimous Declaration of the thirteen united States of America, When in the Course of human events, it becomes necessary for one people to dissolve the political bands which have connected them with another, and to assume among the powers of the earth, the separate and equal station to which the Laws of Nature and of Nature's God entitle them, a decent respect to the opinions of mankind requires that they should declare the causes which impel them to the separation.\n",
        "\n",
        "We hold these truths to be self-evident, that all men are created equal, that they are endowed by their Creator with certain unalienable Rights, that among these are Life, Liberty and the pursuit of Happiness.--That to secure these rights, Governments are instituted among Men, deriving their just powers from the consent of the governed, --That whenever any Form of Government becomes destructive of these ends, it is the Right of the People to alter or to abolish it, and to institute new Government, laying its foundation on such principles and organizing its powers in such form, as to them shall seem most likely to effect their Safety and Happiness. Prudence, indeed, will dictate that Governments long established should not be changed for light and transient causes; and accordingly all experience hath shewn, that mankind are more disposed to suffer, while evils are sufferable, than to right themselves by abolishing the forms to which they are accustomed. But when a long train of abuses and usurpations, pursuing invariably the same Object evinces a design to reduce them under absolute Despotism, it is their right, it is their duty, to throw off such Government, and to provide new Guards for their future security.--Such has been the patient sufferance of these Colonies; and such is now the necessity which constrains them to alter their former Systems of Government. The history of the present King of Great Britain is a history of repeated injuries and usurpations, all having in direct object the establishment of an absolute Tyranny over these States. To prove this, let Facts be submitted to a candid world.\n",
        "\n",
        "He has refused his Assent to Laws, the most wholesome and necessary for the public good.\n",
        "\n",
        "He has forbidden his Governors to pass Laws of immediate and pressing importance, unless suspended in their operation till his Assent should be obtained; and when so suspended, he has utterly neglected to attend to them.\n",
        "\n",
        "He has refused to pass other Laws for the accommodation of large districts of people, unless those people would relinquish the right of Representation in the Legislature, a right inestimable to them and formidable to tyrants only.\n",
        "\n",
        "He has called together legislative bodies at places unusual, uncomfortable, and distant from the depository of their public Records, for the sole purpose of fatiguing them into compliance with his measures.\n",
        "\n",
        "He has dissolved Representative Houses repeatedly, for opposing with manly firmness his invasions on the rights of the people.\n",
        "\n",
        "He has refused for a long time, after such dissolutions, to cause others to be elected; whereby the Legislative powers, incapable of Annihilation, have returned to the People at large for their exercise; the State remaining in the mean time exposed to all the dangers of invasion from without, and convulsions within.\n",
        "\n",
        "He has endeavoured to prevent the population of these States; for that purpose obstructing the Laws for Naturalization of Foreigners; refusing to pass others to encourage their migrations hither, and raising the conditions of new Appropriations of Lands.\n",
        "\n",
        "He has obstructed the Administration of Justice, by refusing his Assent to Laws for establishing Judiciary powers.\n",
        "\n",
        "He has made Judges dependent on his Will alone, for the tenure of their offices, and the amount and payment of their salaries.\n",
        "\n",
        "He has erected a multitude of New Offices, and sent hither swarms of Officers to harrass our people, and eat out their substance.\n",
        "\n",
        "He has kept among us, in times of peace, Standing Armies without the Consent of our legislatures.\n",
        "\n",
        "He has affected to render the Military independent of and superior to the Civil power.\n",
        "\n",
        "He has combined with others to subject us to a jurisdiction foreign to our constitution, and unacknowledged by our laws; giving his Assent to their Acts of pretended Legislation:\n",
        "\n",
        "For Quartering large bodies of armed troops among us:\n",
        "\n",
        "For protecting them, by a mock Trial, from punishment for any Murders which they should commit on the Inhabitants of these States:\n",
        "\n",
        "For cutting off our Trade with all parts of the world:\n",
        "\n",
        "For imposing Taxes on us without our Consent:\n",
        "\n",
        "For depriving us in many cases, of the benefits of Trial by Jury:\n",
        "\n",
        "For transporting us beyond Seas to be tried for pretended offences\n",
        "\n",
        "For abolishing the free System of English Laws in a neighbouring Province, establishing therein an Arbitrary government, and enlarging its Boundaries so as to render it at once an example and fit instrument for introducing the same absolute rule into these Colonies:\n",
        "\n",
        "For taking away our Charters, abolishing our most valuable Laws, and altering fundamentally the Forms of our Governments:\n",
        "\n",
        "For suspending our own Legislatures, and declaring themselves invested with power to legislate for us in all cases whatsoever.\n",
        "\n",
        "He has abdicated Government here, by declaring us out of his Protection and waging War against us.\n",
        "\n",
        "He has plundered our seas, ravaged our Coasts, burnt our towns, and destroyed the lives of our people.\n",
        "\n",
        "He is at this time transporting large Armies of foreign Mercenaries to compleat the works of death, desolation and tyranny, already begun with circumstances of Cruelty & perfidy scarcely paralleled in the most barbarous ages, and totally unworthy the Head of a civilized nation.\n",
        "\n",
        "He has constrained our fellow Citizens taken Captive on the high Seas to bear Arms against their Country, to become the executioners of their friends and Brethren, or to fall themselves by their Hands.\n",
        "\n",
        "He has excited domestic insurrections amongst us, and has endeavoured to bring on the inhabitants of our frontiers, the merciless Indian Savages, whose known rule of warfare, is an undistinguished destruction of all ages, sexes and conditions.\n",
        "\n",
        "In every stage of these Oppressions We have Petitioned for Redress in the most humble terms: Our repeated Petitions have been answered only by repeated injury. A Prince whose character is thus marked by every act which may define a Tyrant, is unfit to be the ruler of a free people.\n",
        "\n",
        "Nor have We been wanting in attentions to our Brittish brethren. We have warned them from time to time of attempts by their legislature to extend an unwarrantable jurisdiction over us. We have reminded them of the circumstances of our emigration and settlement here. We have appealed to their native justice and magnanimity, and we have conjured them by the ties of our common kindred to disavow these usurpations, which, would inevitably interrupt our connections and correspondence. They too have been deaf to the voice of justice and of consanguinity. We must, therefore, acquiesce in the necessity, which denounces our Separation, and hold them, as we hold the rest of mankind, Enemies in War, in Peace Friends.\n",
        "\n",
        "We, therefore, the Representatives of the united States of America, in General Congress, Assembled, appealing to the Supreme Judge of the world for the rectitude of our intentions, do, in the Name, and by Authority of the good People of these Colonies, solemnly publish and declare, That these United Colonies are, and of Right ought to be Free and Independent States; that they are Absolved from all Allegiance to the British Crown, and that all political connection between them and the State of Great Britain, is and ought to be totally dissolved; and that as Free and Independent States, they have full Power to levy War, conclude Peace, contract Alliances, establish Commerce, and to do all other Acts and Things which Independent States may of right do. And for the support of this Declaration, with a firm reliance on the protection of divine Providence, we mutually pledge to each other our Lives, our Fortunes and our sacred Honor.\"\"\""
      ],
      "execution_count": 10,
      "outputs": []
    },
    {
      "cell_type": "code",
      "metadata": {
        "id": "ReEA7n8qqw0g",
        "colab_type": "code",
        "colab": {}
      },
      "source": [
        "import re\n",
        "\n",
        "def text_cleaner(text):\n",
        "    # lower case text\n",
        "    newString = text.lower()\n",
        "    newString = re.sub(r\"'s\\b\",\"\",newString)\n",
        "    # remove punctuations\n",
        "    newString = re.sub(\"[^a-zA-Z]\", \" \", newString) \n",
        "    long_words=[]\n",
        "    # remove short word\n",
        "    for i in newString.split():\n",
        "        if len(i)>=3:                  \n",
        "            long_words.append(i)\n",
        "    return (\" \".join(long_words)).strip()\n",
        "\n",
        "# preprocess the text\n",
        "data_new = text_cleaner(data_text)"
      ],
      "execution_count": 11,
      "outputs": []
    },
    {
      "cell_type": "code",
      "metadata": {
        "id": "_jJNO6snq-Xy",
        "colab_type": "code",
        "colab": {
          "base_uri": "https://localhost:8080/",
          "height": 34
        },
        "outputId": "e72b9fe5-713d-43ec-bbf4-fdc669503bee"
      },
      "source": [
        "def create_seq(text):\n",
        "    length = 30\n",
        "    sequences = list()\n",
        "    for i in range(length, len(text)):\n",
        "        # select sequence of tokens\n",
        "        seq = text[i-length:i+1]\n",
        "        # store\n",
        "        sequences.append(seq)\n",
        "    print('Total Sequences: %d' % len(sequences))\n",
        "    return sequences\n",
        "\n",
        "# create sequences   \n",
        "sequences = create_seq(data_new)"
      ],
      "execution_count": 12,
      "outputs": [
        {
          "output_type": "stream",
          "text": [
            "Total Sequences: 7052\n"
          ],
          "name": "stdout"
        }
      ]
    },
    {
      "cell_type": "code",
      "metadata": {
        "id": "0h9ga8HsrF00",
        "colab_type": "code",
        "colab": {}
      },
      "source": [
        "# create a character mapping index\n",
        "chars = sorted(list(set(data_new)))\n",
        "mapping = dict((c, i) for i, c in enumerate(chars))\n",
        "\n",
        "def encode_seq(seq):\n",
        "    sequences = list()\n",
        "    for line in seq:\n",
        "        # integer encode line\n",
        "        encoded_seq = [mapping[char] for char in line]\n",
        "        # store\n",
        "        sequences.append(encoded_seq)\n",
        "    return sequences\n",
        "\n",
        "# encode the sequences\n",
        "sequences = encode_seq(sequences)"
      ],
      "execution_count": 13,
      "outputs": []
    },
    {
      "cell_type": "code",
      "metadata": {
        "id": "w3TVWGFprMfu",
        "colab_type": "code",
        "colab": {
          "base_uri": "https://localhost:8080/",
          "height": 34
        },
        "outputId": "d75e72a8-9b6b-475d-b514-4b811110131f"
      },
      "source": [
        "from sklearn.model_selection import train_test_split\n",
        "\n",
        "# vocabulary size\n",
        "vocab = len(mapping)\n",
        "sequences = np.array(sequences)\n",
        "# create X and y\n",
        "X, y = sequences[:,:-1], sequences[:,-1]\n",
        "# one hot encode y\n",
        "y = to_categorical(y, num_classes=vocab)\n",
        "# create train and validation sets\n",
        "X_tr, X_val, y_tr, y_val = train_test_split(X, y, test_size=0.1, random_state=42)\n",
        "\n",
        "print('Train shape:', X_tr.shape, 'Val shape:', X_val.shape)"
      ],
      "execution_count": 14,
      "outputs": [
        {
          "output_type": "stream",
          "text": [
            "Train shape: (6346, 30) Val shape: (706, 30)\n"
          ],
          "name": "stdout"
        }
      ]
    },
    {
      "cell_type": "code",
      "metadata": {
        "id": "OTGVJyhIrPgz",
        "colab_type": "code",
        "colab": {
          "base_uri": "https://localhost:8080/",
          "height": 1000
        },
        "outputId": "91553632-fcb5-46c4-9cc2-87a00ddcd93a"
      },
      "source": [
        "\n",
        "# define model\n",
        "model = Sequential()\n",
        "model.add(Embedding(vocab, 50, input_length=30, trainable=True))\n",
        "model.add(GRU(150, recurrent_dropout=0.1, dropout=0.1))\n",
        "model.add(Dense(vocab, activation='softmax'))\n",
        "print(model.summary())\n",
        "\n",
        "# compile the model\n",
        "model.compile(loss='categorical_crossentropy', metrics=['acc'], optimizer='adam')\n",
        "# fit the model\n",
        "model.fit(X_tr, y_tr, epochs=100, verbose=2, validation_data=(X_val, y_val))"
      ],
      "execution_count": 15,
      "outputs": [
        {
          "output_type": "stream",
          "text": [
            "Model: \"sequential\"\n",
            "_________________________________________________________________\n",
            "Layer (type)                 Output Shape              Param #   \n",
            "=================================================================\n",
            "embedding (Embedding)        (None, 30, 50)            1350      \n",
            "_________________________________________________________________\n",
            "gru (GRU)                    (None, 150)               90900     \n",
            "_________________________________________________________________\n",
            "dense (Dense)                (None, 27)                4077      \n",
            "=================================================================\n",
            "Total params: 96,327\n",
            "Trainable params: 96,327\n",
            "Non-trainable params: 0\n",
            "_________________________________________________________________\n",
            "None\n",
            "Epoch 1/100\n",
            "199/199 - 18s - loss: 2.7587 - acc: 0.2014 - val_loss: 2.4248 - val_acc: 0.2989\n",
            "Epoch 2/100\n",
            "199/199 - 17s - loss: 2.2919 - acc: 0.3256 - val_loss: 2.2464 - val_acc: 0.3286\n",
            "Epoch 3/100\n",
            "199/199 - 17s - loss: 2.1557 - acc: 0.3585 - val_loss: 2.1709 - val_acc: 0.3470\n",
            "Epoch 4/100\n",
            "199/199 - 17s - loss: 2.0553 - acc: 0.3848 - val_loss: 2.0816 - val_acc: 0.3895\n",
            "Epoch 5/100\n",
            "199/199 - 17s - loss: 1.9599 - acc: 0.4155 - val_loss: 2.0283 - val_acc: 0.4093\n",
            "Epoch 6/100\n",
            "199/199 - 17s - loss: 1.8784 - acc: 0.4389 - val_loss: 1.9748 - val_acc: 0.4348\n",
            "Epoch 7/100\n",
            "199/199 - 17s - loss: 1.7969 - acc: 0.4540 - val_loss: 1.9410 - val_acc: 0.4490\n",
            "Epoch 8/100\n",
            "199/199 - 17s - loss: 1.7304 - acc: 0.4770 - val_loss: 1.9174 - val_acc: 0.4674\n",
            "Epoch 9/100\n",
            "199/199 - 17s - loss: 1.6517 - acc: 0.5014 - val_loss: 1.9122 - val_acc: 0.4547\n",
            "Epoch 10/100\n",
            "199/199 - 17s - loss: 1.5914 - acc: 0.5243 - val_loss: 1.8770 - val_acc: 0.4731\n",
            "Epoch 11/100\n",
            "199/199 - 17s - loss: 1.5196 - acc: 0.5396 - val_loss: 1.8772 - val_acc: 0.4660\n",
            "Epoch 12/100\n",
            "199/199 - 17s - loss: 1.4580 - acc: 0.5629 - val_loss: 1.8738 - val_acc: 0.4830\n",
            "Epoch 13/100\n",
            "199/199 - 18s - loss: 1.3886 - acc: 0.5786 - val_loss: 1.8704 - val_acc: 0.4703\n",
            "Epoch 14/100\n",
            "199/199 - 17s - loss: 1.3287 - acc: 0.5964 - val_loss: 1.8743 - val_acc: 0.4788\n",
            "Epoch 15/100\n",
            "199/199 - 17s - loss: 1.2725 - acc: 0.6155 - val_loss: 1.8837 - val_acc: 0.4816\n",
            "Epoch 16/100\n",
            "199/199 - 17s - loss: 1.2160 - acc: 0.6243 - val_loss: 1.8897 - val_acc: 0.4773\n",
            "Epoch 17/100\n",
            "199/199 - 17s - loss: 1.1610 - acc: 0.6421 - val_loss: 1.9251 - val_acc: 0.4830\n",
            "Epoch 18/100\n",
            "199/199 - 17s - loss: 1.1116 - acc: 0.6642 - val_loss: 1.9339 - val_acc: 0.4745\n",
            "Epoch 19/100\n",
            "199/199 - 17s - loss: 1.0683 - acc: 0.6699 - val_loss: 1.9298 - val_acc: 0.4830\n",
            "Epoch 20/100\n",
            "199/199 - 17s - loss: 1.0254 - acc: 0.6823 - val_loss: 1.9614 - val_acc: 0.4929\n",
            "Epoch 21/100\n",
            "199/199 - 17s - loss: 0.9843 - acc: 0.6934 - val_loss: 1.9722 - val_acc: 0.4858\n",
            "Epoch 22/100\n",
            "199/199 - 17s - loss: 0.9445 - acc: 0.7067 - val_loss: 1.9755 - val_acc: 0.4915\n",
            "Epoch 23/100\n",
            "199/199 - 17s - loss: 0.9132 - acc: 0.7201 - val_loss: 2.0123 - val_acc: 0.4972\n",
            "Epoch 24/100\n",
            "199/199 - 17s - loss: 0.8812 - acc: 0.7283 - val_loss: 2.0299 - val_acc: 0.4943\n",
            "Epoch 25/100\n",
            "199/199 - 17s - loss: 0.8463 - acc: 0.7362 - val_loss: 2.0659 - val_acc: 0.4929\n",
            "Epoch 26/100\n",
            "199/199 - 17s - loss: 0.8179 - acc: 0.7465 - val_loss: 2.0876 - val_acc: 0.4915\n",
            "Epoch 27/100\n",
            "199/199 - 17s - loss: 0.7991 - acc: 0.7515 - val_loss: 2.1080 - val_acc: 0.4929\n",
            "Epoch 28/100\n",
            "199/199 - 17s - loss: 0.7679 - acc: 0.7569 - val_loss: 2.1303 - val_acc: 0.4915\n",
            "Epoch 29/100\n",
            "199/199 - 17s - loss: 0.7405 - acc: 0.7671 - val_loss: 2.1398 - val_acc: 0.5028\n",
            "Epoch 30/100\n",
            "199/199 - 17s - loss: 0.7189 - acc: 0.7767 - val_loss: 2.1693 - val_acc: 0.4943\n",
            "Epoch 31/100\n",
            "199/199 - 17s - loss: 0.6997 - acc: 0.7761 - val_loss: 2.2034 - val_acc: 0.4986\n",
            "Epoch 32/100\n",
            "199/199 - 17s - loss: 0.6704 - acc: 0.7849 - val_loss: 2.2428 - val_acc: 0.4929\n",
            "Epoch 33/100\n",
            "199/199 - 17s - loss: 0.6558 - acc: 0.7959 - val_loss: 2.2663 - val_acc: 0.4830\n",
            "Epoch 34/100\n",
            "199/199 - 17s - loss: 0.6342 - acc: 0.7996 - val_loss: 2.2790 - val_acc: 0.4887\n",
            "Epoch 35/100\n",
            "199/199 - 17s - loss: 0.6156 - acc: 0.8059 - val_loss: 2.3176 - val_acc: 0.4858\n",
            "Epoch 36/100\n",
            "199/199 - 17s - loss: 0.6024 - acc: 0.8115 - val_loss: 2.3111 - val_acc: 0.5028\n",
            "Epoch 37/100\n",
            "199/199 - 17s - loss: 0.5946 - acc: 0.8148 - val_loss: 2.3785 - val_acc: 0.4958\n",
            "Epoch 38/100\n",
            "199/199 - 17s - loss: 0.5756 - acc: 0.8167 - val_loss: 2.3713 - val_acc: 0.4943\n",
            "Epoch 39/100\n",
            "199/199 - 17s - loss: 0.5711 - acc: 0.8186 - val_loss: 2.4213 - val_acc: 0.4887\n",
            "Epoch 40/100\n",
            "199/199 - 17s - loss: 0.5448 - acc: 0.8252 - val_loss: 2.4334 - val_acc: 0.4986\n",
            "Epoch 41/100\n",
            "199/199 - 17s - loss: 0.5453 - acc: 0.8205 - val_loss: 2.4228 - val_acc: 0.4943\n",
            "Epoch 42/100\n",
            "199/199 - 17s - loss: 0.5333 - acc: 0.8298 - val_loss: 2.4588 - val_acc: 0.4943\n",
            "Epoch 43/100\n",
            "199/199 - 17s - loss: 0.5204 - acc: 0.8328 - val_loss: 2.4990 - val_acc: 0.4915\n",
            "Epoch 44/100\n",
            "199/199 - 17s - loss: 0.5112 - acc: 0.8390 - val_loss: 2.5022 - val_acc: 0.4830\n",
            "Epoch 45/100\n",
            "199/199 - 17s - loss: 0.5003 - acc: 0.8405 - val_loss: 2.5399 - val_acc: 0.4717\n",
            "Epoch 46/100\n",
            "199/199 - 17s - loss: 0.4963 - acc: 0.8361 - val_loss: 2.5502 - val_acc: 0.5000\n",
            "Epoch 47/100\n",
            "199/199 - 17s - loss: 0.4775 - acc: 0.8483 - val_loss: 2.5674 - val_acc: 0.4844\n",
            "Epoch 48/100\n",
            "199/199 - 17s - loss: 0.4703 - acc: 0.8473 - val_loss: 2.5542 - val_acc: 0.4858\n",
            "Epoch 49/100\n",
            "199/199 - 17s - loss: 0.4674 - acc: 0.8465 - val_loss: 2.5773 - val_acc: 0.4887\n",
            "Epoch 50/100\n",
            "199/199 - 18s - loss: 0.4558 - acc: 0.8538 - val_loss: 2.6328 - val_acc: 0.5028\n",
            "Epoch 51/100\n",
            "199/199 - 17s - loss: 0.4602 - acc: 0.8503 - val_loss: 2.6517 - val_acc: 0.4943\n",
            "Epoch 52/100\n",
            "199/199 - 17s - loss: 0.4352 - acc: 0.8615 - val_loss: 2.6660 - val_acc: 0.4873\n",
            "Epoch 53/100\n",
            "199/199 - 17s - loss: 0.4251 - acc: 0.8670 - val_loss: 2.7331 - val_acc: 0.4830\n",
            "Epoch 54/100\n",
            "199/199 - 17s - loss: 0.4204 - acc: 0.8656 - val_loss: 2.7166 - val_acc: 0.4972\n",
            "Epoch 55/100\n",
            "199/199 - 17s - loss: 0.4137 - acc: 0.8661 - val_loss: 2.7643 - val_acc: 0.4887\n",
            "Epoch 56/100\n",
            "199/199 - 17s - loss: 0.4244 - acc: 0.8612 - val_loss: 2.7791 - val_acc: 0.4858\n",
            "Epoch 57/100\n",
            "199/199 - 17s - loss: 0.4006 - acc: 0.8719 - val_loss: 2.7853 - val_acc: 0.4901\n",
            "Epoch 58/100\n",
            "199/199 - 17s - loss: 0.3892 - acc: 0.8744 - val_loss: 2.7863 - val_acc: 0.4887\n",
            "Epoch 59/100\n",
            "199/199 - 17s - loss: 0.4042 - acc: 0.8694 - val_loss: 2.8050 - val_acc: 0.4958\n",
            "Epoch 60/100\n",
            "199/199 - 17s - loss: 0.3881 - acc: 0.8777 - val_loss: 2.8557 - val_acc: 0.4929\n",
            "Epoch 61/100\n",
            "199/199 - 17s - loss: 0.3883 - acc: 0.8731 - val_loss: 2.8670 - val_acc: 0.4929\n",
            "Epoch 62/100\n",
            "199/199 - 16s - loss: 0.3868 - acc: 0.8768 - val_loss: 2.9100 - val_acc: 0.4844\n",
            "Epoch 63/100\n",
            "199/199 - 17s - loss: 0.3733 - acc: 0.8774 - val_loss: 2.9021 - val_acc: 0.4901\n",
            "Epoch 64/100\n",
            "199/199 - 17s - loss: 0.3844 - acc: 0.8763 - val_loss: 2.8916 - val_acc: 0.4901\n",
            "Epoch 65/100\n",
            "199/199 - 17s - loss: 0.3635 - acc: 0.8806 - val_loss: 2.9358 - val_acc: 0.4816\n",
            "Epoch 66/100\n",
            "199/199 - 17s - loss: 0.3642 - acc: 0.8845 - val_loss: 2.9720 - val_acc: 0.4816\n",
            "Epoch 67/100\n",
            "199/199 - 17s - loss: 0.3596 - acc: 0.8856 - val_loss: 2.9724 - val_acc: 0.4844\n",
            "Epoch 68/100\n",
            "199/199 - 17s - loss: 0.3688 - acc: 0.8798 - val_loss: 2.9926 - val_acc: 0.4858\n",
            "Epoch 69/100\n",
            "199/199 - 17s - loss: 0.3609 - acc: 0.8832 - val_loss: 2.9968 - val_acc: 0.4873\n",
            "Epoch 70/100\n",
            "199/199 - 17s - loss: 0.3430 - acc: 0.8895 - val_loss: 3.0326 - val_acc: 0.4830\n",
            "Epoch 71/100\n",
            "199/199 - 16s - loss: 0.3351 - acc: 0.8911 - val_loss: 3.0619 - val_acc: 0.4844\n",
            "Epoch 72/100\n",
            "199/199 - 17s - loss: 0.3439 - acc: 0.8870 - val_loss: 3.0798 - val_acc: 0.4788\n",
            "Epoch 73/100\n",
            "199/199 - 17s - loss: 0.3420 - acc: 0.8887 - val_loss: 3.0756 - val_acc: 0.4844\n",
            "Epoch 74/100\n",
            "199/199 - 17s - loss: 0.3385 - acc: 0.8854 - val_loss: 3.1510 - val_acc: 0.4802\n",
            "Epoch 75/100\n",
            "199/199 - 17s - loss: 0.3361 - acc: 0.8881 - val_loss: 3.1701 - val_acc: 0.4887\n",
            "Epoch 76/100\n",
            "199/199 - 16s - loss: 0.3236 - acc: 0.8947 - val_loss: 3.1688 - val_acc: 0.4802\n",
            "Epoch 77/100\n",
            "199/199 - 17s - loss: 0.3369 - acc: 0.8861 - val_loss: 3.1442 - val_acc: 0.4802\n",
            "Epoch 78/100\n",
            "199/199 - 17s - loss: 0.3258 - acc: 0.8897 - val_loss: 3.1676 - val_acc: 0.4816\n",
            "Epoch 79/100\n",
            "199/199 - 17s - loss: 0.3292 - acc: 0.8884 - val_loss: 3.2090 - val_acc: 0.4731\n",
            "Epoch 80/100\n",
            "199/199 - 17s - loss: 0.3268 - acc: 0.8897 - val_loss: 3.2095 - val_acc: 0.4830\n",
            "Epoch 81/100\n",
            "199/199 - 16s - loss: 0.3332 - acc: 0.8878 - val_loss: 3.1813 - val_acc: 0.4887\n",
            "Epoch 82/100\n",
            "199/199 - 16s - loss: 0.3179 - acc: 0.8947 - val_loss: 3.2523 - val_acc: 0.4773\n",
            "Epoch 83/100\n",
            "199/199 - 16s - loss: 0.3044 - acc: 0.8965 - val_loss: 3.2596 - val_acc: 0.4688\n",
            "Epoch 84/100\n",
            "199/199 - 17s - loss: 0.3063 - acc: 0.8987 - val_loss: 3.2911 - val_acc: 0.4731\n",
            "Epoch 85/100\n",
            "199/199 - 17s - loss: 0.3106 - acc: 0.8935 - val_loss: 3.3003 - val_acc: 0.4802\n",
            "Epoch 86/100\n",
            "199/199 - 17s - loss: 0.3040 - acc: 0.9017 - val_loss: 3.2898 - val_acc: 0.4660\n",
            "Epoch 87/100\n",
            "199/199 - 17s - loss: 0.3005 - acc: 0.9001 - val_loss: 3.2633 - val_acc: 0.4788\n",
            "Epoch 88/100\n",
            "199/199 - 18s - loss: 0.3089 - acc: 0.8971 - val_loss: 3.3183 - val_acc: 0.4788\n",
            "Epoch 89/100\n",
            "199/199 - 17s - loss: 0.3061 - acc: 0.9017 - val_loss: 3.2878 - val_acc: 0.4858\n",
            "Epoch 90/100\n",
            "199/199 - 17s - loss: 0.3017 - acc: 0.8987 - val_loss: 3.3408 - val_acc: 0.4788\n",
            "Epoch 91/100\n",
            "199/199 - 17s - loss: 0.2978 - acc: 0.8976 - val_loss: 3.3728 - val_acc: 0.4646\n",
            "Epoch 92/100\n",
            "199/199 - 17s - loss: 0.2956 - acc: 0.9001 - val_loss: 3.3696 - val_acc: 0.4717\n",
            "Epoch 93/100\n",
            "199/199 - 17s - loss: 0.2885 - acc: 0.9047 - val_loss: 3.3930 - val_acc: 0.4717\n",
            "Epoch 94/100\n",
            "199/199 - 17s - loss: 0.2951 - acc: 0.8995 - val_loss: 3.4032 - val_acc: 0.4717\n",
            "Epoch 95/100\n",
            "199/199 - 17s - loss: 0.2872 - acc: 0.9026 - val_loss: 3.4178 - val_acc: 0.4816\n",
            "Epoch 96/100\n",
            "199/199 - 17s - loss: 0.2986 - acc: 0.9012 - val_loss: 3.3648 - val_acc: 0.4773\n",
            "Epoch 97/100\n",
            "199/199 - 17s - loss: 0.3008 - acc: 0.9018 - val_loss: 3.4337 - val_acc: 0.4788\n",
            "Epoch 98/100\n",
            "199/199 - 17s - loss: 0.2901 - acc: 0.9072 - val_loss: 3.4017 - val_acc: 0.4674\n",
            "Epoch 99/100\n",
            "199/199 - 17s - loss: 0.2884 - acc: 0.9047 - val_loss: 3.4457 - val_acc: 0.4745\n",
            "Epoch 100/100\n",
            "199/199 - 17s - loss: 0.2900 - acc: 0.9025 - val_loss: 3.4336 - val_acc: 0.4660\n"
          ],
          "name": "stdout"
        },
        {
          "output_type": "execute_result",
          "data": {
            "text/plain": [
              "<tensorflow.python.keras.callbacks.History at 0x7f7c96d2b588>"
            ]
          },
          "metadata": {
            "tags": []
          },
          "execution_count": 15
        }
      ]
    },
    {
      "cell_type": "code",
      "metadata": {
        "id": "I2fr-AI-zxWw",
        "colab_type": "code",
        "colab": {}
      },
      "source": [
        "# generate a sequence of characters with a language model\n",
        "def generate_seq(model, mapping, seq_length, seed_text, n_chars):\n",
        "\tin_text = seed_text\n",
        "\t# generate a fixed number of characters\n",
        "\tfor _ in range(n_chars):\n",
        "\t\t# encode the characters as integers\n",
        "\t\tencoded = [mapping[char] for char in in_text]\n",
        "\t\t# truncate sequences to a fixed length\n",
        "\t\tencoded = pad_sequences([encoded], maxlen=seq_length, truncating='pre')\n",
        "\t\t# predict character\n",
        "\t\tyhat = model.predict_classes(encoded, verbose=0)\n",
        "\t\t# reverse map integer to character\n",
        "\t\tout_char = ''\n",
        "\t\tfor char, index in mapping.items():\n",
        "\t\t\tif index == yhat:\n",
        "\t\t\t\tout_char = char\n",
        "\t\t\t\tbreak\n",
        "\t\t# append to input\n",
        "\t\tin_text += char\n",
        "\treturn in_text"
      ],
      "execution_count": 24,
      "outputs": []
    },
    {
      "cell_type": "markdown",
      "metadata": {
        "id": "MBq5SGCg9xaY",
        "colab_type": "text"
      },
      "source": [
        ""
      ]
    },
    {
      "cell_type": "code",
      "metadata": {
        "id": "PeRvGCtMz0Ha",
        "colab_type": "code",
        "colab": {
          "base_uri": "https://localhost:8080/",
          "height": 35
        },
        "outputId": "059acc02-f1e1-4abd-a423-8bf5106681d5"
      },
      "source": [
        "generate_seq(model, mapping, 20, \"is this a real life \", 100)"
      ],
      "execution_count": 31,
      "outputs": [
        {
          "output_type": "execute_result",
          "data": {
            "application/vnd.google.colaboratory.intrinsic+json": {
              "type": "string"
            },
            "text/plain": [
              "'is this a real life and all other legislatures and destroyections amongst and has endeavoured britain his our consent fo'"
            ]
          },
          "metadata": {
            "tags": []
          },
          "execution_count": 31
        }
      ]
    },
    {
      "cell_type": "markdown",
      "metadata": {
        "id": "8VuhH640-cmX",
        "colab_type": "text"
      },
      "source": [
        "### Using GPT2 for Language Generation\n"
      ]
    },
    {
      "cell_type": "code",
      "metadata": {
        "id": "YMx3XJ36-iam",
        "colab_type": "code",
        "colab": {
          "base_uri": "https://localhost:8080/",
          "height": 632
        },
        "outputId": "89c44e22-d2ab-4370-9050-2f4798c59022"
      },
      "source": [
        "!pip install pytorch-transformers"
      ],
      "execution_count": 3,
      "outputs": [
        {
          "output_type": "stream",
          "text": [
            "Collecting pytorch-transformers\n",
            "\u001b[?25l  Downloading https://files.pythonhosted.org/packages/a3/b7/d3d18008a67e0b968d1ab93ad444fc05699403fa662f634b2f2c318a508b/pytorch_transformers-1.2.0-py3-none-any.whl (176kB)\n",
            "\u001b[K     |████████████████████████████████| 184kB 2.8MB/s \n",
            "\u001b[?25hRequirement already satisfied: boto3 in /usr/local/lib/python3.6/dist-packages (from pytorch-transformers) (1.14.59)\n",
            "Requirement already satisfied: torch>=1.0.0 in /usr/local/lib/python3.6/dist-packages (from pytorch-transformers) (1.6.0+cu101)\n",
            "Collecting sacremoses\n",
            "\u001b[?25l  Downloading https://files.pythonhosted.org/packages/7d/34/09d19aff26edcc8eb2a01bed8e98f13a1537005d31e95233fd48216eed10/sacremoses-0.0.43.tar.gz (883kB)\n",
            "\u001b[K     |████████████████████████████████| 890kB 11.9MB/s \n",
            "\u001b[?25hRequirement already satisfied: requests in /usr/local/lib/python3.6/dist-packages (from pytorch-transformers) (2.23.0)\n",
            "Requirement already satisfied: numpy in /usr/local/lib/python3.6/dist-packages (from pytorch-transformers) (1.18.5)\n",
            "Collecting sentencepiece\n",
            "\u001b[?25l  Downloading https://files.pythonhosted.org/packages/d4/a4/d0a884c4300004a78cca907a6ff9a5e9fe4f090f5d95ab341c53d28cbc58/sentencepiece-0.1.91-cp36-cp36m-manylinux1_x86_64.whl (1.1MB)\n",
            "\u001b[K     |████████████████████████████████| 1.1MB 11.6MB/s \n",
            "\u001b[?25hRequirement already satisfied: tqdm in /usr/local/lib/python3.6/dist-packages (from pytorch-transformers) (4.41.1)\n",
            "Requirement already satisfied: regex in /usr/local/lib/python3.6/dist-packages (from pytorch-transformers) (2019.12.20)\n",
            "Requirement already satisfied: botocore<1.18.0,>=1.17.59 in /usr/local/lib/python3.6/dist-packages (from boto3->pytorch-transformers) (1.17.59)\n",
            "Requirement already satisfied: s3transfer<0.4.0,>=0.3.0 in /usr/local/lib/python3.6/dist-packages (from boto3->pytorch-transformers) (0.3.3)\n",
            "Requirement already satisfied: jmespath<1.0.0,>=0.7.1 in /usr/local/lib/python3.6/dist-packages (from boto3->pytorch-transformers) (0.10.0)\n",
            "Requirement already satisfied: future in /usr/local/lib/python3.6/dist-packages (from torch>=1.0.0->pytorch-transformers) (0.16.0)\n",
            "Requirement already satisfied: six in /usr/local/lib/python3.6/dist-packages (from sacremoses->pytorch-transformers) (1.15.0)\n",
            "Requirement already satisfied: click in /usr/local/lib/python3.6/dist-packages (from sacremoses->pytorch-transformers) (7.1.2)\n",
            "Requirement already satisfied: joblib in /usr/local/lib/python3.6/dist-packages (from sacremoses->pytorch-transformers) (0.16.0)\n",
            "Requirement already satisfied: certifi>=2017.4.17 in /usr/local/lib/python3.6/dist-packages (from requests->pytorch-transformers) (2020.6.20)\n",
            "Requirement already satisfied: chardet<4,>=3.0.2 in /usr/local/lib/python3.6/dist-packages (from requests->pytorch-transformers) (3.0.4)\n",
            "Requirement already satisfied: urllib3!=1.25.0,!=1.25.1,<1.26,>=1.21.1 in /usr/local/lib/python3.6/dist-packages (from requests->pytorch-transformers) (1.24.3)\n",
            "Requirement already satisfied: idna<3,>=2.5 in /usr/local/lib/python3.6/dist-packages (from requests->pytorch-transformers) (2.10)\n",
            "Requirement already satisfied: python-dateutil<3.0.0,>=2.1 in /usr/local/lib/python3.6/dist-packages (from botocore<1.18.0,>=1.17.59->boto3->pytorch-transformers) (2.8.1)\n",
            "Requirement already satisfied: docutils<0.16,>=0.10 in /usr/local/lib/python3.6/dist-packages (from botocore<1.18.0,>=1.17.59->boto3->pytorch-transformers) (0.15.2)\n",
            "Building wheels for collected packages: sacremoses\n",
            "  Building wheel for sacremoses (setup.py) ... \u001b[?25l\u001b[?25hdone\n",
            "  Created wheel for sacremoses: filename=sacremoses-0.0.43-cp36-none-any.whl size=893257 sha256=be9df49aed3e5be23546f6a9b65e8f48db80e99f9f78ee6669addbf6a0f9848a\n",
            "  Stored in directory: /root/.cache/pip/wheels/29/3c/fd/7ce5c3f0666dab31a50123635e6fb5e19ceb42ce38d4e58f45\n",
            "Successfully built sacremoses\n",
            "Installing collected packages: sacremoses, sentencepiece, pytorch-transformers\n",
            "Successfully installed pytorch-transformers-1.2.0 sacremoses-0.0.43 sentencepiece-0.1.91\n"
          ],
          "name": "stdout"
        }
      ]
    },
    {
      "cell_type": "code",
      "metadata": {
        "id": "BfS0Y62y-mBs",
        "colab_type": "code",
        "colab": {
          "base_uri": "https://localhost:8080/",
          "height": 34
        },
        "outputId": "7fb07e51-41e8-463e-cb2d-2d97c8a4aefd"
      },
      "source": [
        "# Import required libraries\n",
        "import torch\n",
        "from pytorch_transformers import GPT2Tokenizer, GPT2LMHeadModel\n",
        "\n",
        "# Load pre-trained model tokenizer (vocabulary)\n",
        "tokenizer = GPT2Tokenizer.from_pretrained('gpt2')\n",
        "\n",
        "# Encode a text inputs\n",
        "text = \"the coward never started and the week died on their way, that leaves\"\n",
        "indexed_tokens = tokenizer.encode(text)\n",
        "\n",
        "# Convert indexed tokens in a PyTorch tensor\n",
        "tokens_tensor = torch.tensor([indexed_tokens])\n",
        "\n",
        "# Load pre-trained model (weights)\n",
        "model = GPT2LMHeadModel.from_pretrained('gpt2')\n",
        "\n",
        "# Set the model in evaluation mode to deactivate the DropOut modules\n",
        "model.eval()\n",
        "\n",
        "# If you have a GPU, put everything on cuda\n",
        "tokens_tensor = tokens_tensor.to('cuda')\n",
        "model.to('cuda')\n",
        "\n",
        "# Predict all tokens\n",
        "with torch.no_grad():\n",
        "    outputs = model(tokens_tensor)\n",
        "    predictions = outputs[0]\n",
        "\n",
        "# Get the predicted next sub-word\n",
        "predicted_index = torch.argmax(predictions[0, -1, :]).item()\n",
        "predicted_text = tokenizer.decode(indexed_tokens + [predicted_index])\n",
        "\n",
        "# Print the predicted word\n",
        "print(predicted_text)"
      ],
      "execution_count": 13,
      "outputs": [
        {
          "output_type": "stream",
          "text": [
            " the coward never started and the week died on their way, that leaves them\n"
          ],
          "name": "stdout"
        }
      ]
    }
  ]
}