{
  "nbformat": 4,
  "nbformat_minor": 0,
  "metadata": {
    "colab": {
      "name": "test colab.ipynb",
      "provenance": [],
      "authorship_tag": "ABX9TyO5CMCfjKuxA8g2GuE26WAw",
      "include_colab_link": true
    },
    "kernelspec": {
      "name": "python3",
      "display_name": "Python 3"
    }
  },
  "cells": [
    {
      "cell_type": "markdown",
      "metadata": {
        "id": "view-in-github",
        "colab_type": "text"
      },
      "source": [
        "<a href=\"https://colab.research.google.com/github/deepskandpal/hands-on-machine-learning/blob/POC/Newyork_taxi_ETA.ipynb\" target=\"_parent\"><img src=\"https://colab.research.google.com/assets/colab-badge.svg\" alt=\"Open In Colab\"/></a>"
      ]
    },
    {
      "cell_type": "code",
      "metadata": {
        "id": "Z8pnmdErc4m5",
        "colab_type": "code",
        "colab": {}
      },
      "source": [
        "import pandas as pd\n",
        "import numpy as np\n",
        "from sklearn.model_selection import train_test_split\n"
      ],
      "execution_count": 3,
      "outputs": []
    },
    {
      "cell_type": "code",
      "metadata": {
        "id": "est_Z3au_y_v",
        "colab_type": "code",
        "colab": {
          "resources": {
            "http://localhost:8080/nbextensions/google.colab/files.js": {
              "data": "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",
              "ok": true,
              "headers": [
                [
                  "content-type",
                  "application/javascript"
                ]
              ],
              "status": 200,
              "status_text": ""
            }
          },
          "base_uri": "https://localhost:8080/",
          "height": 89
        },
        "outputId": "dd6657ed-3952-4a1d-8592-4d2a679bb7d7"
      },
      "source": [
        "from google.colab import files\n",
        "files.upload()\n"
      ],
      "execution_count": 4,
      "outputs": [
        {
          "output_type": "display_data",
          "data": {
            "text/html": [
              "\n",
              "     <input type=\"file\" id=\"files-e09e05b8-ba78-4b48-a7b9-8eb75b142053\" name=\"files[]\" multiple disabled\n",
              "        style=\"border:none\" />\n",
              "     <output id=\"result-e09e05b8-ba78-4b48-a7b9-8eb75b142053\">\n",
              "      Upload widget is only available when the cell has been executed in the\n",
              "      current browser session. Please rerun this cell to enable.\n",
              "      </output>\n",
              "      <script src=\"/nbextensions/google.colab/files.js\"></script> "
            ],
            "text/plain": [
              "<IPython.core.display.HTML object>"
            ]
          },
          "metadata": {
            "tags": []
          }
        },
        {
          "output_type": "stream",
          "text": [
            "Saving kaggle.json to kaggle (1).json\n"
          ],
          "name": "stdout"
        },
        {
          "output_type": "execute_result",
          "data": {
            "text/plain": [
              "{'kaggle.json': b'{\"username\":\"atdeepanshu\",\"key\":\"efb7cfbda38df5a60eec6e85835e4859\"}'}"
            ]
          },
          "metadata": {
            "tags": []
          },
          "execution_count": 4
        }
      ]
    },
    {
      "cell_type": "code",
      "metadata": {
        "id": "Tk_lvAG8_2EG",
        "colab_type": "code",
        "colab": {
          "base_uri": "https://localhost:8080/",
          "height": 34
        },
        "outputId": "960b9f40-3ef1-4bea-8b72-ef538bdc467b"
      },
      "source": [
        "!pip install -q kaggle\n",
        "!mkdir -p ~/.kaggle\n",
        "!cp kaggle.json ~/.kaggle/\n",
        "!ls ~/.kaggle\n",
        "!chmod 600 /root/.kaggle/kaggle.json"
      ],
      "execution_count": 5,
      "outputs": [
        {
          "output_type": "stream",
          "text": [
            "kaggle.json\n"
          ],
          "name": "stdout"
        }
      ]
    },
    {
      "cell_type": "code",
      "metadata": {
        "id": "JWuXQejp_7co",
        "colab_type": "code",
        "colab": {
          "base_uri": "https://localhost:8080/",
          "height": 85
        },
        "outputId": "a2080c27-eb1f-4f81-a38a-82a1d96c0314"
      },
      "source": [
        "!kaggle competitions download -c nyc-taxi-trip-duration\n"
      ],
      "execution_count": 6,
      "outputs": [
        {
          "output_type": "stream",
          "text": [
            "Warning: Looks like you're using an outdated API Version, please consider updating (server 1.5.6 / client 1.5.4)\n",
            "test.zip: Skipping, found more recently modified local copy (use --force to force download)\n",
            "train.zip: Skipping, found more recently modified local copy (use --force to force download)\n",
            "sample_submission.zip: Skipping, found more recently modified local copy (use --force to force download)\n"
          ],
          "name": "stdout"
        }
      ]
    },
    {
      "cell_type": "code",
      "metadata": {
        "id": "sHr12t75drQI",
        "colab_type": "code",
        "colab": {
          "base_uri": "https://localhost:8080/",
          "height": 51
        },
        "outputId": "a8b5a9dd-5cf1-4a4b-fc40-16a4c322aeff"
      },
      "source": [
        "!ls"
      ],
      "execution_count": 7,
      "outputs": [
        {
          "output_type": "stream",
          "text": [
            "'kaggle (1).json'   sample_data\t\t    test.zip\n",
            " kaggle.json\t    sample_submission.zip   train.zip\n"
          ],
          "name": "stdout"
        }
      ]
    },
    {
      "cell_type": "code",
      "metadata": {
        "id": "WPfHOUgV75cQ",
        "colab_type": "code",
        "colab": {
          "base_uri": "https://localhost:8080/",
          "height": 309
        },
        "outputId": "ae34e9e3-d122-4496-e250-00ac13cbebfb"
      },
      "source": [
        "train_data = pd.read_csv(\"train.zip\")\n",
        "train_data.head()"
      ],
      "execution_count": 8,
      "outputs": [
        {
          "output_type": "execute_result",
          "data": {
            "text/html": [
              "<div>\n",
              "<style scoped>\n",
              "    .dataframe tbody tr th:only-of-type {\n",
              "        vertical-align: middle;\n",
              "    }\n",
              "\n",
              "    .dataframe tbody tr th {\n",
              "        vertical-align: top;\n",
              "    }\n",
              "\n",
              "    .dataframe thead th {\n",
              "        text-align: right;\n",
              "    }\n",
              "</style>\n",
              "<table border=\"1\" class=\"dataframe\">\n",
              "  <thead>\n",
              "    <tr style=\"text-align: right;\">\n",
              "      <th></th>\n",
              "      <th>id</th>\n",
              "      <th>vendor_id</th>\n",
              "      <th>pickup_datetime</th>\n",
              "      <th>dropoff_datetime</th>\n",
              "      <th>passenger_count</th>\n",
              "      <th>pickup_longitude</th>\n",
              "      <th>pickup_latitude</th>\n",
              "      <th>dropoff_longitude</th>\n",
              "      <th>dropoff_latitude</th>\n",
              "      <th>store_and_fwd_flag</th>\n",
              "      <th>trip_duration</th>\n",
              "    </tr>\n",
              "  </thead>\n",
              "  <tbody>\n",
              "    <tr>\n",
              "      <th>0</th>\n",
              "      <td>id2875421</td>\n",
              "      <td>2</td>\n",
              "      <td>2016-03-14 17:24:55</td>\n",
              "      <td>2016-03-14 17:32:30</td>\n",
              "      <td>1</td>\n",
              "      <td>-73.982155</td>\n",
              "      <td>40.767937</td>\n",
              "      <td>-73.964630</td>\n",
              "      <td>40.765602</td>\n",
              "      <td>N</td>\n",
              "      <td>455</td>\n",
              "    </tr>\n",
              "    <tr>\n",
              "      <th>1</th>\n",
              "      <td>id2377394</td>\n",
              "      <td>1</td>\n",
              "      <td>2016-06-12 00:43:35</td>\n",
              "      <td>2016-06-12 00:54:38</td>\n",
              "      <td>1</td>\n",
              "      <td>-73.980415</td>\n",
              "      <td>40.738564</td>\n",
              "      <td>-73.999481</td>\n",
              "      <td>40.731152</td>\n",
              "      <td>N</td>\n",
              "      <td>663</td>\n",
              "    </tr>\n",
              "    <tr>\n",
              "      <th>2</th>\n",
              "      <td>id3858529</td>\n",
              "      <td>2</td>\n",
              "      <td>2016-01-19 11:35:24</td>\n",
              "      <td>2016-01-19 12:10:48</td>\n",
              "      <td>1</td>\n",
              "      <td>-73.979027</td>\n",
              "      <td>40.763939</td>\n",
              "      <td>-74.005333</td>\n",
              "      <td>40.710087</td>\n",
              "      <td>N</td>\n",
              "      <td>2124</td>\n",
              "    </tr>\n",
              "    <tr>\n",
              "      <th>3</th>\n",
              "      <td>id3504673</td>\n",
              "      <td>2</td>\n",
              "      <td>2016-04-06 19:32:31</td>\n",
              "      <td>2016-04-06 19:39:40</td>\n",
              "      <td>1</td>\n",
              "      <td>-74.010040</td>\n",
              "      <td>40.719971</td>\n",
              "      <td>-74.012268</td>\n",
              "      <td>40.706718</td>\n",
              "      <td>N</td>\n",
              "      <td>429</td>\n",
              "    </tr>\n",
              "    <tr>\n",
              "      <th>4</th>\n",
              "      <td>id2181028</td>\n",
              "      <td>2</td>\n",
              "      <td>2016-03-26 13:30:55</td>\n",
              "      <td>2016-03-26 13:38:10</td>\n",
              "      <td>1</td>\n",
              "      <td>-73.973053</td>\n",
              "      <td>40.793209</td>\n",
              "      <td>-73.972923</td>\n",
              "      <td>40.782520</td>\n",
              "      <td>N</td>\n",
              "      <td>435</td>\n",
              "    </tr>\n",
              "  </tbody>\n",
              "</table>\n",
              "</div>"
            ],
            "text/plain": [
              "          id  vendor_id  ... store_and_fwd_flag trip_duration\n",
              "0  id2875421          2  ...                  N           455\n",
              "1  id2377394          1  ...                  N           663\n",
              "2  id3858529          2  ...                  N          2124\n",
              "3  id3504673          2  ...                  N           429\n",
              "4  id2181028          2  ...                  N           435\n",
              "\n",
              "[5 rows x 11 columns]"
            ]
          },
          "metadata": {
            "tags": []
          },
          "execution_count": 8
        }
      ]
    },
    {
      "cell_type": "markdown",
      "metadata": {
        "id": "pgy-e1gxLrqs",
        "colab_type": "text"
      },
      "source": [
        "## Explorately Data Analysis"
      ]
    },
    {
      "cell_type": "code",
      "metadata": {
        "id": "drfzANQ5N86Q",
        "colab_type": "code",
        "colab": {
          "base_uri": "https://localhost:8080/",
          "height": 323
        },
        "outputId": "55fbf62f-31d2-4297-b9d9-7cd134de7eef"
      },
      "source": [
        "train_data.info()"
      ],
      "execution_count": 9,
      "outputs": [
        {
          "output_type": "stream",
          "text": [
            "<class 'pandas.core.frame.DataFrame'>\n",
            "RangeIndex: 1458644 entries, 0 to 1458643\n",
            "Data columns (total 11 columns):\n",
            " #   Column              Non-Null Count    Dtype  \n",
            "---  ------              --------------    -----  \n",
            " 0   id                  1458644 non-null  object \n",
            " 1   vendor_id           1458644 non-null  int64  \n",
            " 2   pickup_datetime     1458644 non-null  object \n",
            " 3   dropoff_datetime    1458644 non-null  object \n",
            " 4   passenger_count     1458644 non-null  int64  \n",
            " 5   pickup_longitude    1458644 non-null  float64\n",
            " 6   pickup_latitude     1458644 non-null  float64\n",
            " 7   dropoff_longitude   1458644 non-null  float64\n",
            " 8   dropoff_latitude    1458644 non-null  float64\n",
            " 9   store_and_fwd_flag  1458644 non-null  object \n",
            " 10  trip_duration       1458644 non-null  int64  \n",
            "dtypes: float64(4), int64(3), object(4)\n",
            "memory usage: 122.4+ MB\n"
          ],
          "name": "stdout"
        }
      ]
    },
    {
      "cell_type": "code",
      "metadata": {
        "id": "dqr04AaFOA53",
        "colab_type": "code",
        "colab": {
          "base_uri": "https://localhost:8080/",
          "height": 297
        },
        "outputId": "8074fe14-3bd6-408d-e47e-a0b0eb014172"
      },
      "source": [
        "train_data.describe()"
      ],
      "execution_count": 10,
      "outputs": [
        {
          "output_type": "execute_result",
          "data": {
            "text/html": [
              "<div>\n",
              "<style scoped>\n",
              "    .dataframe tbody tr th:only-of-type {\n",
              "        vertical-align: middle;\n",
              "    }\n",
              "\n",
              "    .dataframe tbody tr th {\n",
              "        vertical-align: top;\n",
              "    }\n",
              "\n",
              "    .dataframe thead th {\n",
              "        text-align: right;\n",
              "    }\n",
              "</style>\n",
              "<table border=\"1\" class=\"dataframe\">\n",
              "  <thead>\n",
              "    <tr style=\"text-align: right;\">\n",
              "      <th></th>\n",
              "      <th>vendor_id</th>\n",
              "      <th>passenger_count</th>\n",
              "      <th>pickup_longitude</th>\n",
              "      <th>pickup_latitude</th>\n",
              "      <th>dropoff_longitude</th>\n",
              "      <th>dropoff_latitude</th>\n",
              "      <th>trip_duration</th>\n",
              "    </tr>\n",
              "  </thead>\n",
              "  <tbody>\n",
              "    <tr>\n",
              "      <th>count</th>\n",
              "      <td>1.458644e+06</td>\n",
              "      <td>1.458644e+06</td>\n",
              "      <td>1.458644e+06</td>\n",
              "      <td>1.458644e+06</td>\n",
              "      <td>1.458644e+06</td>\n",
              "      <td>1.458644e+06</td>\n",
              "      <td>1.458644e+06</td>\n",
              "    </tr>\n",
              "    <tr>\n",
              "      <th>mean</th>\n",
              "      <td>1.534950e+00</td>\n",
              "      <td>1.664530e+00</td>\n",
              "      <td>-7.397349e+01</td>\n",
              "      <td>4.075092e+01</td>\n",
              "      <td>-7.397342e+01</td>\n",
              "      <td>4.075180e+01</td>\n",
              "      <td>9.594923e+02</td>\n",
              "    </tr>\n",
              "    <tr>\n",
              "      <th>std</th>\n",
              "      <td>4.987772e-01</td>\n",
              "      <td>1.314242e+00</td>\n",
              "      <td>7.090186e-02</td>\n",
              "      <td>3.288119e-02</td>\n",
              "      <td>7.064327e-02</td>\n",
              "      <td>3.589056e-02</td>\n",
              "      <td>5.237432e+03</td>\n",
              "    </tr>\n",
              "    <tr>\n",
              "      <th>min</th>\n",
              "      <td>1.000000e+00</td>\n",
              "      <td>0.000000e+00</td>\n",
              "      <td>-1.219333e+02</td>\n",
              "      <td>3.435970e+01</td>\n",
              "      <td>-1.219333e+02</td>\n",
              "      <td>3.218114e+01</td>\n",
              "      <td>1.000000e+00</td>\n",
              "    </tr>\n",
              "    <tr>\n",
              "      <th>25%</th>\n",
              "      <td>1.000000e+00</td>\n",
              "      <td>1.000000e+00</td>\n",
              "      <td>-7.399187e+01</td>\n",
              "      <td>4.073735e+01</td>\n",
              "      <td>-7.399133e+01</td>\n",
              "      <td>4.073588e+01</td>\n",
              "      <td>3.970000e+02</td>\n",
              "    </tr>\n",
              "    <tr>\n",
              "      <th>50%</th>\n",
              "      <td>2.000000e+00</td>\n",
              "      <td>1.000000e+00</td>\n",
              "      <td>-7.398174e+01</td>\n",
              "      <td>4.075410e+01</td>\n",
              "      <td>-7.397975e+01</td>\n",
              "      <td>4.075452e+01</td>\n",
              "      <td>6.620000e+02</td>\n",
              "    </tr>\n",
              "    <tr>\n",
              "      <th>75%</th>\n",
              "      <td>2.000000e+00</td>\n",
              "      <td>2.000000e+00</td>\n",
              "      <td>-7.396733e+01</td>\n",
              "      <td>4.076836e+01</td>\n",
              "      <td>-7.396301e+01</td>\n",
              "      <td>4.076981e+01</td>\n",
              "      <td>1.075000e+03</td>\n",
              "    </tr>\n",
              "    <tr>\n",
              "      <th>max</th>\n",
              "      <td>2.000000e+00</td>\n",
              "      <td>9.000000e+00</td>\n",
              "      <td>-6.133553e+01</td>\n",
              "      <td>5.188108e+01</td>\n",
              "      <td>-6.133553e+01</td>\n",
              "      <td>4.392103e+01</td>\n",
              "      <td>3.526282e+06</td>\n",
              "    </tr>\n",
              "  </tbody>\n",
              "</table>\n",
              "</div>"
            ],
            "text/plain": [
              "          vendor_id  passenger_count  ...  dropoff_latitude  trip_duration\n",
              "count  1.458644e+06     1.458644e+06  ...      1.458644e+06   1.458644e+06\n",
              "mean   1.534950e+00     1.664530e+00  ...      4.075180e+01   9.594923e+02\n",
              "std    4.987772e-01     1.314242e+00  ...      3.589056e-02   5.237432e+03\n",
              "min    1.000000e+00     0.000000e+00  ...      3.218114e+01   1.000000e+00\n",
              "25%    1.000000e+00     1.000000e+00  ...      4.073588e+01   3.970000e+02\n",
              "50%    2.000000e+00     1.000000e+00  ...      4.075452e+01   6.620000e+02\n",
              "75%    2.000000e+00     2.000000e+00  ...      4.076981e+01   1.075000e+03\n",
              "max    2.000000e+00     9.000000e+00  ...      4.392103e+01   3.526282e+06\n",
              "\n",
              "[8 rows x 7 columns]"
            ]
          },
          "metadata": {
            "tags": []
          },
          "execution_count": 10
        }
      ]
    },
    {
      "cell_type": "code",
      "metadata": {
        "id": "u4DLPDOMjd1v",
        "colab_type": "code",
        "colab": {
          "base_uri": "https://localhost:8080/",
          "height": 68
        },
        "outputId": "6908a022-b476-4228-c2b8-50e89802a947"
      },
      "source": [
        "from geopy.geocoders import Nominatim\n",
        "from geopy.distance import geodesic\n",
        "geolocator = Nominatim(user_agent=\"my_app\")\n",
        "location = geolocator.reverse(\"40.767937, -73.982155\")\n",
        "location1 = (40.767937, -73.982155)\n",
        "location2 = (40.765602, -73.964630)\n",
        "addr1 = geolocator.reverse(\"40.767937, -73.982155\")\n",
        "addr2 = geolocator.reverse(\"40.765602, -73.964630\")\n",
        "print(\"addr1 =\", addr1.address)\n",
        "print(\"addr2 = \", addr2.address)\n",
        "print(geodesic(location1, location2).m) \n",
        "\n"
      ],
      "execution_count": 11,
      "outputs": [
        {
          "output_type": "stream",
          "text": [
            "addr1 = Columbus Circle, Manhattan Community Board 4, Manhattan, New York County, New York, United States of America\n",
            "addr2 =  146, East 65th Street, Lenox Hill, Manhattan Community Board 8, Manhattan, New York County, New York, 10065, United States of America\n",
            "1502.2029520818444\n"
          ],
          "name": "stdout"
        }
      ]
    },
    {
      "cell_type": "code",
      "metadata": {
        "id": "7ddlT95_8XmW",
        "colab_type": "code",
        "colab": {}
      },
      "source": [
        "def get_distance_in_metre(df):\n",
        "  start_point = (df[\"pickup_latitude\"], df[\"pickup_longitude\"])\n",
        "  drop_point = (df[\"dropoff_latitude\"], df[\"dropoff_longitude\"])\n",
        "  total_distance = geodesic(start_point, drop_point).m\n",
        "  return total_distance"
      ],
      "execution_count": 12,
      "outputs": []
    },
    {
      "cell_type": "code",
      "metadata": {
        "id": "GENt2WeKovQO",
        "colab_type": "code",
        "colab": {}
      },
      "source": [
        "train_data['distance'] = train_data.apply(get_distance_in_metre, axis = 1) "
      ],
      "execution_count": 13,
      "outputs": []
    },
    {
      "cell_type": "code",
      "metadata": {
        "id": "p2Xdh0PytvkU",
        "colab_type": "code",
        "colab": {}
      },
      "source": [
        "train_data_cpy = train_data.drop([\"dropoff_longitude\", \"dropoff_latitude\", \"pickup_latitude\", \"pickup_longitude\"], axis=1)"
      ],
      "execution_count": 19,
      "outputs": []
    },
    {
      "cell_type": "code",
      "metadata": {
        "id": "vLtvgZfXuJ2G",
        "colab_type": "code",
        "colab": {
          "base_uri": "https://localhost:8080/",
          "height": 419
        },
        "outputId": "bb54496a-1418-48b6-b8ad-64e7fcfc7ec3"
      },
      "source": [
        "train_data_cpy"
      ],
      "execution_count": 20,
      "outputs": [
        {
          "output_type": "execute_result",
          "data": {
            "text/html": [
              "<div>\n",
              "<style scoped>\n",
              "    .dataframe tbody tr th:only-of-type {\n",
              "        vertical-align: middle;\n",
              "    }\n",
              "\n",
              "    .dataframe tbody tr th {\n",
              "        vertical-align: top;\n",
              "    }\n",
              "\n",
              "    .dataframe thead th {\n",
              "        text-align: right;\n",
              "    }\n",
              "</style>\n",
              "<table border=\"1\" class=\"dataframe\">\n",
              "  <thead>\n",
              "    <tr style=\"text-align: right;\">\n",
              "      <th></th>\n",
              "      <th>id</th>\n",
              "      <th>vendor_id</th>\n",
              "      <th>pickup_datetime</th>\n",
              "      <th>dropoff_datetime</th>\n",
              "      <th>passenger_count</th>\n",
              "      <th>store_and_fwd_flag</th>\n",
              "      <th>trip_duration</th>\n",
              "      <th>distance</th>\n",
              "    </tr>\n",
              "  </thead>\n",
              "  <tbody>\n",
              "    <tr>\n",
              "      <th>0</th>\n",
              "      <td>id2875421</td>\n",
              "      <td>2</td>\n",
              "      <td>2016-03-14 17:24:55</td>\n",
              "      <td>2016-03-14 17:32:30</td>\n",
              "      <td>1</td>\n",
              "      <td>N</td>\n",
              "      <td>455</td>\n",
              "      <td>1502.171837</td>\n",
              "    </tr>\n",
              "    <tr>\n",
              "      <th>1</th>\n",
              "      <td>id2377394</td>\n",
              "      <td>1</td>\n",
              "      <td>2016-06-12 00:43:35</td>\n",
              "      <td>2016-06-12 00:54:38</td>\n",
              "      <td>1</td>\n",
              "      <td>N</td>\n",
              "      <td>663</td>\n",
              "      <td>1808.659969</td>\n",
              "    </tr>\n",
              "    <tr>\n",
              "      <th>2</th>\n",
              "      <td>id3858529</td>\n",
              "      <td>2</td>\n",
              "      <td>2016-01-19 11:35:24</td>\n",
              "      <td>2016-01-19 12:10:48</td>\n",
              "      <td>1</td>\n",
              "      <td>N</td>\n",
              "      <td>2124</td>\n",
              "      <td>6379.687175</td>\n",
              "    </tr>\n",
              "    <tr>\n",
              "      <th>3</th>\n",
              "      <td>id3504673</td>\n",
              "      <td>2</td>\n",
              "      <td>2016-04-06 19:32:31</td>\n",
              "      <td>2016-04-06 19:39:40</td>\n",
              "      <td>1</td>\n",
              "      <td>N</td>\n",
              "      <td>429</td>\n",
              "      <td>1483.632481</td>\n",
              "    </tr>\n",
              "    <tr>\n",
              "      <th>4</th>\n",
              "      <td>id2181028</td>\n",
              "      <td>2</td>\n",
              "      <td>2016-03-26 13:30:55</td>\n",
              "      <td>2016-03-26 13:38:10</td>\n",
              "      <td>1</td>\n",
              "      <td>N</td>\n",
              "      <td>435</td>\n",
              "      <td>1187.037659</td>\n",
              "    </tr>\n",
              "    <tr>\n",
              "      <th>...</th>\n",
              "      <td>...</td>\n",
              "      <td>...</td>\n",
              "      <td>...</td>\n",
              "      <td>...</td>\n",
              "      <td>...</td>\n",
              "      <td>...</td>\n",
              "      <td>...</td>\n",
              "      <td>...</td>\n",
              "    </tr>\n",
              "    <tr>\n",
              "      <th>1458639</th>\n",
              "      <td>id2376096</td>\n",
              "      <td>2</td>\n",
              "      <td>2016-04-08 13:31:04</td>\n",
              "      <td>2016-04-08 13:44:02</td>\n",
              "      <td>4</td>\n",
              "      <td>N</td>\n",
              "      <td>778</td>\n",
              "      <td>1227.089623</td>\n",
              "    </tr>\n",
              "    <tr>\n",
              "      <th>1458640</th>\n",
              "      <td>id1049543</td>\n",
              "      <td>1</td>\n",
              "      <td>2016-01-10 07:35:15</td>\n",
              "      <td>2016-01-10 07:46:10</td>\n",
              "      <td>1</td>\n",
              "      <td>N</td>\n",
              "      <td>655</td>\n",
              "      <td>6046.211843</td>\n",
              "    </tr>\n",
              "    <tr>\n",
              "      <th>1458641</th>\n",
              "      <td>id2304944</td>\n",
              "      <td>2</td>\n",
              "      <td>2016-04-22 06:57:41</td>\n",
              "      <td>2016-04-22 07:10:25</td>\n",
              "      <td>1</td>\n",
              "      <td>N</td>\n",
              "      <td>764</td>\n",
              "      <td>7821.531849</td>\n",
              "    </tr>\n",
              "    <tr>\n",
              "      <th>1458642</th>\n",
              "      <td>id2714485</td>\n",
              "      <td>1</td>\n",
              "      <td>2016-01-05 15:56:26</td>\n",
              "      <td>2016-01-05 16:02:39</td>\n",
              "      <td>1</td>\n",
              "      <td>N</td>\n",
              "      <td>373</td>\n",
              "      <td>1092.524008</td>\n",
              "    </tr>\n",
              "    <tr>\n",
              "      <th>1458643</th>\n",
              "      <td>id1209952</td>\n",
              "      <td>1</td>\n",
              "      <td>2016-04-05 14:44:25</td>\n",
              "      <td>2016-04-05 14:47:43</td>\n",
              "      <td>1</td>\n",
              "      <td>N</td>\n",
              "      <td>198</td>\n",
              "      <td>1133.655282</td>\n",
              "    </tr>\n",
              "  </tbody>\n",
              "</table>\n",
              "<p>1458644 rows × 8 columns</p>\n",
              "</div>"
            ],
            "text/plain": [
              "                id  vendor_id  ... trip_duration     distance\n",
              "0        id2875421          2  ...           455  1502.171837\n",
              "1        id2377394          1  ...           663  1808.659969\n",
              "2        id3858529          2  ...          2124  6379.687175\n",
              "3        id3504673          2  ...           429  1483.632481\n",
              "4        id2181028          2  ...           435  1187.037659\n",
              "...            ...        ...  ...           ...          ...\n",
              "1458639  id2376096          2  ...           778  1227.089623\n",
              "1458640  id1049543          1  ...           655  6046.211843\n",
              "1458641  id2304944          2  ...           764  7821.531849\n",
              "1458642  id2714485          1  ...           373  1092.524008\n",
              "1458643  id1209952          1  ...           198  1133.655282\n",
              "\n",
              "[1458644 rows x 8 columns]"
            ]
          },
          "metadata": {
            "tags": []
          },
          "execution_count": 20
        }
      ]
    },
    {
      "cell_type": "code",
      "metadata": {
        "id": "wlCcUEWbLrT7",
        "colab_type": "code",
        "colab": {}
      },
      "source": [
        "# to find the relation between time and distance \n",
        "# naming the x axis \n",
        "import matplotlib.pyplot as plt\n",
        "%matplotlib inline\n",
        "plt.plot(x, y) \n",
        "plt.xlabel('x - axis') \n",
        "# naming the y axis \n",
        "plt.ylabel('y - axis') \n",
        "  \n",
        "# giving a title to my graph \n",
        "plt.title('My first graph!') \n",
        "  \n",
        "# function to show the plot \n",
        "plt.show()"
      ],
      "execution_count": null,
      "outputs": []
    },
    {
      "cell_type": "code",
      "metadata": {
        "id": "mOdE4KGDcIyN",
        "colab_type": "code",
        "colab": {}
      },
      "source": [
        "train_data_cpy.plot(x ='trip_duration', y='distance', kind = 'line')"
      ],
      "execution_count": null,
      "outputs": []
    },
    {
      "cell_type": "code",
      "metadata": {
        "id": "vBh4TYMINGoS",
        "colab_type": "code",
        "colab": {}
      },
      "source": [
        "train_data_cpy['pickup_datetime'] = pd.to_datetime(train_data_cpy['pickup_datetime'])\n",
        "train_data_cpy['dropoff_datetime'] = pd.to_datetime(train_data_cpy['dropoff_datetime'])"
      ],
      "execution_count": 21,
      "outputs": []
    },
    {
      "cell_type": "code",
      "metadata": {
        "id": "m90lUCDkNVVV",
        "colab_type": "code",
        "colab": {}
      },
      "source": [
        "def datetime_to_float(d):\n",
        "    return d.timestamp()\n",
        "temp = train_data_cpy['pickup_datetime'].apply(datetime_to_float)"
      ],
      "execution_count": 23,
      "outputs": []
    },
    {
      "cell_type": "code",
      "metadata": {
        "id": "SXU3iuupNV4E",
        "colab_type": "code",
        "colab": {}
      },
      "source": [
        "train_data_cpy = train_data_cpy.drop(['id'], axis=1)"
      ],
      "execution_count": 24,
      "outputs": []
    },
    {
      "cell_type": "code",
      "metadata": {
        "id": "0m9UeAUYNZUg",
        "colab_type": "code",
        "colab": {}
      },
      "source": [
        "def datetime_to_float(d):\n",
        "    return d.timestamp()\n",
        "\n",
        "def normalize_numeric_data(data):\n",
        "    y = data['trip_duration']\n",
        "    y_train = np.asarray(y).astype('float32')\n",
        "    data = data.drop(['trip_duration'], axis=1)\n",
        "    date_time = data.select_dtypes(include=['datetime64'])\n",
        "    for column in date_time:\n",
        "        date_time[column] = date_time[column].apply(datetime_to_float)\n",
        "    numeric_data = data.select_dtypes(include=[np.number])\n",
        "    from sklearn import preprocessing\n",
        "    x = numeric_data.values #returns a numpy array\n",
        "    min_max_scaler = preprocessing.MinMaxScaler()\n",
        "    x_scaled = min_max_scaler.fit_transform(x)\n",
        "    df = pd.DataFrame(x_scaled)\n",
        "    df_col = pd.concat([date_time,df], axis=1)\n",
        "    #np_reader = tf.contrib.timeseries.NumpyReader(data={tf.contrib.timeseries.TrainEvalFeatures.TIMES: data['timestamp'].values, tf.contrib.timeseries.TrainEvalFeatures.VALUES : data['value'].values})\n",
        "    X = df_col.to_numpy()\n",
        "    #X = np.asarray(X).astype(np.float32)\n",
        "    return X, y_train"
      ],
      "execution_count": 25,
      "outputs": []
    },
    {
      "cell_type": "code",
      "metadata": {
        "id": "0xAaA6WVPdXH",
        "colab_type": "code",
        "colab": {}
      },
      "source": [
        "X, y = normalize_numeric_data(train_data)"
      ],
      "execution_count": 26,
      "outputs": []
    },
    {
      "cell_type": "code",
      "metadata": {
        "id": "jQGetyiePYtJ",
        "colab_type": "code",
        "colab": {}
      },
      "source": [
        "X_train, X_test, y_train, y_test = train_test_split(X, y, test_size=0.33, random_state=1)"
      ],
      "execution_count": 27,
      "outputs": []
    },
    {
      "cell_type": "code",
      "metadata": {
        "id": "0HP15xPkPWI-",
        "colab_type": "code",
        "colab": {}
      },
      "source": [
        "from keras import models\n",
        "from keras import layers\n",
        "\n",
        "def build_model():\n",
        "    model = models.Sequential() \n",
        "    model.add(layers.Dense(512, activation='selu', input_shape=(X_train.shape[1],))) \n",
        "    model.add(layers.Dropout(rate=0.5))\n",
        "    model.add(layers.Dense(512, activation='selu'))\n",
        "    model.add(layers.Dropout(rate=0.5))\n",
        "    model.add(layers.Dense(512, activation='selu'))\n",
        "    model.add(layers.Dropout(rate=0.5))\n",
        "    model.add(layers.Dense(512, activation='selu'))\n",
        "    model.add(layers.Dropout(rate=0.5))\n",
        "    model.add(layers.Dense(512, activation='selu'))\n",
        "    model.add(layers.Dropout(rate=0.5))\n",
        "    model.add(layers.Dense(512, activation='selu'))\n",
        "    model.add(layers.Dropout(rate=0.5))\n",
        "    model.add(layers.Dense(512, activation='selu'))\n",
        "    model.add(layers.Dropout(rate=0.5))\n",
        "    model.add(layers.Dense(256, activation='selu'))\n",
        "    model.add(layers.Dropout(rate=0.5))\n",
        "    model.add(layers.Dense(256, activation='selu'))\n",
        "    model.add(layers.Dropout(rate=0.5))\n",
        "    model.add(layers.Dense(256, activation='selu'))\n",
        "    model.add(layers.Dropout(rate=0.5))\n",
        "    model.add(layers.Dense(128, activation='selu'))\n",
        "    model.add(layers.Dropout(rate=0.5))\n",
        "    model.add(layers.Dense(1))\n",
        "    model.compile(optimizer='rmsprop', loss='mean_squared_logarithmic_error', metrics=['acc']) \n",
        "    history = model.fit(X_train, y_train, validation_data=(X_test, y_test),epochs=20, batch_size=12, verbose=2)\n",
        "    return history"
      ],
      "execution_count": 32,
      "outputs": []
    },
    {
      "cell_type": "code",
      "metadata": {
        "id": "GUURT7jGQBlZ",
        "colab_type": "code",
        "colab": {
          "base_uri": "https://localhost:8080/",
          "height": 136
        },
        "outputId": "e6dd5bf4-7fe7-42bf-d364-b929659c58b8"
      },
      "source": [
        "history = build_model()\n"
      ],
      "execution_count": null,
      "outputs": [
        {
          "output_type": "stream",
          "text": [
            "Epoch 1/20\n",
            "81441/81441 - 2005s - loss: 41.1914 - acc: 1.0232e-06 - val_loss: 42.4435 - val_acc: 0.0000e+00\n",
            "Epoch 2/20\n",
            "81441/81441 - 1949s - loss: 42.4606 - acc: 0.0000e+00 - val_loss: 42.4435 - val_acc: 0.0000e+00\n",
            "Epoch 3/20\n",
            "81441/81441 - 1938s - loss: 42.4608 - acc: 0.0000e+00 - val_loss: 42.4435 - val_acc: 0.0000e+00\n",
            "Epoch 4/20\n"
          ],
          "name": "stdout"
        }
      ]
    }
  ]
}